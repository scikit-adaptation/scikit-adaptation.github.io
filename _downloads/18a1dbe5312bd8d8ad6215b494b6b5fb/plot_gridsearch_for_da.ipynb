{
  "cells": [
    {
      "cell_type": "markdown",
      "metadata": {},
      "source": [
        "\n# Using GridSearchCV with skada\n\nThis example illustrates the use of DA scorer such as :class:`~skada.metrics.ImportanceWeightedScorer`\nwith [GridSearchCV](https://scikit-learn.org/stable/modules/generated/sklearn.model_selection.GridSearchCV.html).\n"
      ]
    },
    {
      "cell_type": "markdown",
      "metadata": {},
      "source": [
        "We first create a shifted dataset. Then we prepare the pipeline including a\nbase estimator doing the classification and the DA estimator. We use\n:code:`ShuffleSplit` as cross-validation strategy.\n\n"
      ]
    },
    {
      "cell_type": "code",
      "execution_count": null,
      "metadata": {
        "collapsed": false
      },
      "outputs": [],
      "source": [
        "import warnings\n\nimport matplotlib.pyplot as plt\nfrom sklearn.inspection import DecisionBoundaryDisplay\nfrom sklearn.model_selection import GridSearchCV, ShuffleSplit\nfrom sklearn.svm import SVC\n\nfrom skada import EntropicOTMapping\nfrom skada.datasets import make_shifted_datasets\nfrom skada.metrics import PredictionEntropyScorer\n\nwarnings.filterwarnings(\"ignore\")\n\nRANDOM_SEED = 42\ndataset = make_shifted_datasets(\n    n_samples_source=30,\n    n_samples_target=20,\n    shift=\"conditional_shift\",\n    label=\"binary\",\n    noise=0.4,\n    random_state=RANDOM_SEED,\n    return_dataset=True,\n)\nX, y, sample_domain = dataset.pack(\n    as_sources=[\"s\"], as_targets=[\"t\"], mask_target_labels=True\n)\nX_target, y_target, _ = dataset.pack(\n    as_sources=[], as_targets=[\"t\"], mask_target_labels=False\n)\n\nestimator = EntropicOTMapping(base_estimator=SVC(probability=True))\ncv = ShuffleSplit(n_splits=5, test_size=0.3, random_state=RANDOM_SEED)"
      ]
    },
    {
      "cell_type": "markdown",
      "metadata": {},
      "source": [
        "We want to perform a grid search to find the best regularization parameter\nfor the DA estimator. The DA pipeline can directly be used in :code:`GridSearchCV`.\nWe use the :class:`~skada.metrics.PredictionEntropyScorer`\nto evaluate the performance of the DA estimator during the grid search.\n\n"
      ]
    },
    {
      "cell_type": "code",
      "execution_count": null,
      "metadata": {
        "collapsed": false
      },
      "outputs": [],
      "source": [
        "reg_e = [0.01, 0.03, 0.05, 0.08, 0.1]\n\ngrid_search = GridSearchCV(\n    estimator,\n    {\"entropicotmappingadapter__reg_e\": reg_e},\n    cv=cv,\n    scoring=PredictionEntropyScorer(),\n)\n\ngrid_search.fit(X, y, sample_domain=sample_domain)\n\nbest_reg_e = grid_search.best_params_[\"entropicotmappingadapter__reg_e\"]\nprint(f\"Best regularization parameter: {best_reg_e}\")"
      ]
    },
    {
      "cell_type": "markdown",
      "metadata": {},
      "source": [
        "Plot the results\n\n"
      ]
    },
    {
      "cell_type": "code",
      "execution_count": null,
      "metadata": {
        "collapsed": false
      },
      "outputs": [],
      "source": [
        "plt.plot(\n    grid_search.cv_results_[\"param_entropicotmappingadapter__reg_e\"],\n    grid_search.cv_results_[\"mean_test_score\"],\n)\nplt.xlabel(\"Regulariation parameter\")\nplt.ylabel(\"Prediction entropy score\")\nplt.show()"
      ]
    },
    {
      "cell_type": "code",
      "execution_count": null,
      "metadata": {
        "collapsed": false
      },
      "outputs": [],
      "source": [
        "DecisionBoundaryDisplay.from_estimator(\n    grid_search.best_estimator_,\n    X_target,\n    alpha=0.8,\n    eps=0.5,\n    response_method=\"predict\",\n)\n\n# Plot the target points\nplt.scatter(\n    X_target[:, 0],\n    X_target[:, 1],\n    c=y_target,\n    alpha=0.5,\n)\nplt.show()"
      ]
    }
  ],
  "metadata": {
    "kernelspec": {
      "display_name": "Python 3",
      "language": "python",
      "name": "python3"
    },
    "language_info": {
      "codemirror_mode": {
        "name": "ipython",
        "version": 3
      },
      "file_extension": ".py",
      "mimetype": "text/x-python",
      "name": "python",
      "nbconvert_exporter": "python",
      "pygments_lexer": "ipython3",
      "version": "3.10.18"
    }
  },
  "nbformat": 4,
  "nbformat_minor": 0
}