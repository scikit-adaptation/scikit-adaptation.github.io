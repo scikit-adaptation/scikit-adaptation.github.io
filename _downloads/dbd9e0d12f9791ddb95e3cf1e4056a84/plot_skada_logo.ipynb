{
  "cells": [
    {
      "cell_type": "markdown",
      "metadata": {},
      "source": [
        "\n# SKADA logo generation\n\n\nIn this example we plot the logos of the SKADA toolbox.\n\nThis logo is that it is done 100% in Python and generated using\nmatplotlib and plotting the solution of the EMD solver from POT.\n"
      ]
    },
    {
      "cell_type": "code",
      "execution_count": null,
      "metadata": {
        "collapsed": false
      },
      "outputs": [],
      "source": [
        "# Author: Remi Flamary\n#\n# License: BSD 3-Clause\n# sphinx_gallery_thumbnail_number = 1"
      ]
    },
    {
      "cell_type": "code",
      "execution_count": null,
      "metadata": {
        "collapsed": false
      },
      "outputs": [],
      "source": [
        "import numpy as np\nimport pylab as pl\n\nimport matplotlib.pyplot as plt\nplt.rcParams.update({\n    \"text.usetex\": True,\n    \"font.family\": \"Computer Modern\"})\n\n\ndef get_lda_interp(xs, xt, alpha, len_=1):\n    \"\"\"Compute the LDA interpolation between two domains\"\"\"\n\n    # compute means (clases assumed to be balanced)\n    m1 = (1-alpha)*xs[:n//2, :].mean(0)+(alpha)*xt[:n//2, :].mean(0)\n    m2 = (1-alpha)*xs[n//2:, :].mean(0)+(alpha)*xt[n//2:, :].mean(0)\n\n    vo = m2-m1\n    vo = vo / np.linalg.norm(vo)\n\n    theta = np.pi/2\n    rot = np.array([[np.cos(theta), -np.sin(theta)], [np.sin(theta), np.cos(theta)]])\n\n    vor = rot.dot(vo)\n\n    mm = 0.5*m1+0.5*m2\n\n    return np.vstack((mm-len_*vor, mm+len_*vor))"
      ]
    },
    {
      "cell_type": "code",
      "execution_count": null,
      "metadata": {
        "collapsed": false
      },
      "outputs": [],
      "source": [
        "n = 40\n\nnp.random.seed(42)\n\nxs = 0.2*np.random.randn(n, 2)\n\n# class  specific change\nxs[n//2:, 0] += 0.5\nxs[n//2:, 1] -= 1\n\n# classes 0 an 3 for blue/red colors\nys = np.zeros(n)\nys[n//2:] = 3\n\n# global changes\nxt = 0.15*np.random.randn(n, 2)\nxt[:, 0] += 0.7\nxt[:, 1] -= 0\n\n# class specific change\nxt[n//2:, 0] += 1\nxt[n//2:, 1] -= 0.2\n\n# class 7 for gray color (target without label)\nyt = np.ones(n)*7"
      ]
    },
    {
      "cell_type": "markdown",
      "metadata": {},
      "source": [
        "## Plot the small logo\n\n"
      ]
    },
    {
      "cell_type": "code",
      "execution_count": null,
      "metadata": {
        "collapsed": false
      },
      "outputs": [],
      "source": [
        "nb = 10\nalpha0 = 0.2\n\nalphalist = np.linspace(0, 1, nb)\n\npl.figure(1, (2, 2))\npl.clf()\nalpha = 0.7\n\n# plot samples\npl.scatter(xs[ys == 0, 0], xs[ys == 0, 1], c='C0', cmap='tab10',\n           vmax=10, alpha=alpha, label='Source data', marker='o')\npl.scatter(xs[ys == 3, 0], xs[ys == 3, 1], c='C3', cmap='tab10',\n           vmax=10, alpha=alpha, label='Source data', marker='s')\npl.scatter(xt[ys == 0, 0], xt[ys == 0, 1], c='C7', cmap='tab10',\n           vmax=10, alpha=alpha, label='Source data', marker='o')\npl.scatter(xt[ys == 3, 0], xt[ys == 3, 1], c='C7', cmap='tab10',\n           vmax=10, alpha=alpha, label='Source data', marker='s')\n\n# plot classifiers\nax = pl.axis()\nfor i in range(nb):\n    xclass = get_lda_interp(xs, xt, alphalist[i], 2)\n    pl.plot(xclass[:, 0], xclass[:, 1], color='C2', alpha=alpha0 +\n            (1-alpha0)*alphalist[i], zorder=0, linewidth=2)\npl.axis(ax)\npl.axis('off')\n\n# save to file\npl.savefig('skada_logo.svg', bbox_inches='tight', dpi=400)\npl.savefig('skada_logo.png', bbox_inches='tight', dpi=400)"
      ]
    },
    {
      "cell_type": "markdown",
      "metadata": {},
      "source": [
        "## Plot the full logo\n\n"
      ]
    },
    {
      "cell_type": "code",
      "execution_count": null,
      "metadata": {
        "collapsed": false
      },
      "outputs": [],
      "source": [
        "# target data for full logo\nxt2 = xt.copy()\nxt2[:, 0] += 6.3\n\n\nnb = 10\nalpha0 = 0.2\nalphalist = np.linspace(0, 1, nb)\n\npl.figure(2, (9, 1.5))\npl.clf()\nalpha = 0.7\n\n# plot samples\npl.scatter(xs[ys == 0, 0], xs[ys == 0, 1], c='C0', cmap='tab10',\n           vmax=10, alpha=alpha, label='Source data', marker='o')\npl.scatter(xs[ys == 3, 0], xs[ys == 3, 1], c='C3', cmap='tab10',\n           vmax=10, alpha=alpha, label='Source data', marker='s')\npl.scatter(xt2[ys == 0, 0], xt2[ys == 0, 1], c='C7', cmap='tab10',\n           vmax=10, alpha=alpha, label='Source data', marker='o')\npl.scatter(xt2[ys == 3, 0], xt2[ys == 3, 1], c='C7', cmap='tab10',\n           vmax=10, alpha=alpha, label='Source data', marker='s')\n\n# plot classifiers\nax = pl.axis()\nfor i in range(nb):\n    xclass = get_lda_interp(xs, xt2, alphalist[i], 2)\n    pl.plot(xclass[:, 0], xclass[:, 1], color='C2', alpha=alpha0 +\n            (1-alpha0)*alphalist[i], zorder=0, linewidth=2)\npl.text(1.3, -1.18, r'\\bf\\textsf{SKADA}', fontsize=80,\n        usetex=True, zorder=0.5, color=(0.2, 0.2, 0.2))\n\npl.axis(ax)\npl.axis('off')\n\npl.savefig('skada_logo_full.svg', bbox_inches='tight', dpi=400)\npl.savefig('skada_logo_full.png', bbox_inches='tight', dpi=400)"
      ]
    },
    {
      "cell_type": "markdown",
      "metadata": {},
      "source": [
        "## Plot the full logo in white\n\n"
      ]
    },
    {
      "cell_type": "code",
      "execution_count": null,
      "metadata": {
        "collapsed": false
      },
      "outputs": [],
      "source": [
        "# target data for full logo\nxt2 = xt.copy()\nxt2[:, 0] += 6.3\n\n\nnb = 10\nalpha0 = 0.2\nalphalist = np.linspace(0, 1, nb)\n\npl.figure(2, (9, 1.5))\npl.clf()\nalpha = 0.7\n\n# plot samples\npl.scatter(xs[ys == 0, 0], xs[ys == 0, 1], c='w', cmap='tab10',\n           vmax=10, alpha=alpha, label='Source data', marker='o')\npl.scatter(xs[ys == 3, 0], xs[ys == 3, 1], c='w', cmap='tab10',\n           vmax=10, alpha=alpha, label='Source data', marker='s')\npl.scatter(xt2[ys == 0, 0], xt2[ys == 0, 1], c='w', cmap='tab10',\n           vmax=10, alpha=alpha, label='Source data', marker='o')\npl.scatter(xt2[ys == 3, 0], xt2[ys == 3, 1], c='w', cmap='tab10',\n           vmax=10, alpha=alpha, label='Source data', marker='s')\n\n# plot classifiers\nax = pl.axis()\nfor i in range(nb):\n    xclass = get_lda_interp(xs, xt2, alphalist[i], 2)\n    pl.plot(xclass[:, 0], xclass[:, 1], color='w', alpha=alpha0 +\n            (1-alpha0)*alphalist[i], zorder=0, linewidth=2)\npl.text(1.3, -1.18, r'\\bf\\textsf{SKADA}', fontsize=80,\n        usetex=True, zorder=0.5, color=\"w\", alpha=0.9)\n\npl.axis(ax)\npl.axis('off')\n\npl.savefig('skada_logo_full_white.png', transparent=True, bbox_inches='tight', dpi=400)\npl.savefig('skada_logo_full_white.svg', transparent=True, bbox_inches='tight', dpi=400)"
      ]
    }
  ],
  "metadata": {
    "kernelspec": {
      "display_name": "Python 3",
      "language": "python",
      "name": "python3"
    },
    "language_info": {
      "codemirror_mode": {
        "name": "ipython",
        "version": 3
      },
      "file_extension": ".py",
      "mimetype": "text/x-python",
      "name": "python",
      "nbconvert_exporter": "python",
      "pygments_lexer": "ipython3",
      "version": "3.10.13"
    }
  },
  "nbformat": 4,
  "nbformat_minor": 0
}