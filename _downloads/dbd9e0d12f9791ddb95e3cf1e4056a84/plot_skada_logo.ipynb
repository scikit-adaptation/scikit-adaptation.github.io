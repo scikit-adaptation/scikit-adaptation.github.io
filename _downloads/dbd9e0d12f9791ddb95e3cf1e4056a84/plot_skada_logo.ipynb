{
  "cells": [
    {
      "cell_type": "markdown",
      "metadata": {},
      "source": [
        "\n# SKADA logo generation\n\n\nIn this example we plot the logos of the SKADA toolbox.\n\nThis logo is that it is done 100% in Python and generated using\nmatplotlib and plotting the solution of the EMD solver from POT.\n"
      ]
    },
    {
      "cell_type": "code",
      "execution_count": null,
      "metadata": {
        "collapsed": false
      },
      "outputs": [],
      "source": [
        "# Author: Th\u00e9o Gnassounou\n#\n# License: BSD 3-Clause\n# sphinx_gallery_thumbnail_number = 1"
      ]
    },
    {
      "cell_type": "code",
      "execution_count": null,
      "metadata": {
        "collapsed": false
      },
      "outputs": [],
      "source": [
        "from math import factorial\n\nimport matplotlib.pyplot as plt\nimport numpy as np\n\nplt.rcParams.update({\"text.usetex\": True, \"font.family\": \"Computer Modern\"})\n\ncolor_S = \"black\"\ncolor_1 = \"#2364aa\"\ncolor_0 = \"#c84630\"\ncolor_unlabel = \"#999c81\"\n\n\ndef comb(n, k):\n    return factorial(n) // (factorial(k) * factorial(n - k))\n\n\ndef bezier_curve(t, points):\n    n = len(points) - 1\n    return sum(comb(n, i) * (1 - t) ** (n - i) * t**i * points[i] for i in range(n + 1))\n\n\ndef draw_S(\n    start_length=9,\n    length_step=2.5,\n    final_angle=70,\n    angle_step=18,\n    s=30,\n    alpha=0.9,\n    linewidths=1,\n    random_state=42,\n    figsize=(2, 2),\n    white=False,\n):\n    rng = np.random.RandomState(random_state)\n\n    # Create a figure and axis\n    fig = plt.figure(1, figsize)\n    if figsize == (2, 2):\n        plt.xlim(-1, 11)\n    else:\n        plt.xlim(-1, 35)\n\n    # Define the control points for the B\u00e9zier curve\n    points = np.array([[2, 8], [4, 10], [6, 0], [8, 2]])\n\n    # Generate the S shape\n    t_values = np.linspace(-0.3, 1.3, 100)\n    curve = np.array([bezier_curve(t, points) for t in t_values])\n\n    for i, angle in enumerate(range(0, final_angle, angle_step)):\n        rotation_center = np.mean(curve, axis=0)\n        rotation_angle = np.radians(angle)\n        rotation_matrix = np.array(\n            [\n                [np.cos(rotation_angle), -np.sin(rotation_angle)],\n                [np.sin(rotation_angle), np.cos(rotation_angle)],\n            ]\n        )\n        rotated_curve = (\n            np.dot(curve - rotation_center, rotation_matrix) + rotation_center\n        )\n\n        # Plot the S shape\n        plt.plot(\n            rotated_curve[:, 1],\n            rotated_curve[:, 0],\n            color=color_S if not white else \"w\",\n            linewidth=start_length - length_step * i,\n            alpha=1 - i / (final_angle / angle_step),\n            solid_capstyle=\"round\",\n        )\n\n    # Plot the S shape\n    plt.plot(\n        curve[:, 1],\n        curve[:, 0],\n        color=color_S if not white else \"w\",\n        linewidth=2,\n        solid_capstyle=\"round\",\n    )\n    n_dots = 200\n    max = 2\n    min = 1\n    dots = rng.rand(n_dots, 2) * 10\n    dots_class = []\n    dots_keep = []\n    for i, dot in enumerate(dots):\n        # get the closest x axis point of the curve of dot\n        closest_point = curve[np.argmin(np.abs(curve[:, 0] - dot[0]))]\n        if (abs(closest_point[1] - dot[1]) < max) & (\n            abs(closest_point[1] - dot[1]) > min\n        ):\n            dots_keep.append(dot)\n            if closest_point[1] > dot[1]:\n                dots_class.append(1)\n            else:\n                dots_class.append(0)\n\n    dots_keep = np.array(dots_keep)\n    dots_class = np.array(dots_class)\n\n    plt.scatter(\n        dots_keep[dots_class == 0, 1],\n        dots_keep[dots_class == 0, 0],\n        color=color_unlabel if not white else \"w\",\n        marker=\"o\",\n        s=s,\n        alpha=alpha,\n        linewidths=linewidths,\n    )\n\n    plt.scatter(\n        dots_keep[dots_class == 1, 1],\n        dots_keep[dots_class == 1, 0],\n        color=color_unlabel if not white else \"w\",\n        marker=\"s\",\n        s=s,\n        alpha=alpha,\n        linewidths=linewidths,\n    )\n\n    dots_rotated = (\n        np.dot(dots_keep - rotation_center, rotation_matrix) + rotation_center\n    )\n\n    plt.scatter(\n        dots_rotated[dots_class == 0, 1],\n        dots_rotated[dots_class == 0, 0],\n        color=color_1 if not white else \"w\",\n        marker=\"o\",\n        s=s,\n        alpha=alpha,\n        linewidths=linewidths,\n    )\n\n    plt.scatter(\n        dots_rotated[dots_class == 1, 1],\n        dots_rotated[dots_class == 1, 0],\n        color=color_0 if not white else \"w\",\n        marker=\"s\",\n        s=s,\n        alpha=alpha,\n        linewidths=linewidths,\n    )\n\n    # Hide axes\n    plt.axis(\"off\")\n\n    return fig"
      ]
    },
    {
      "cell_type": "code",
      "execution_count": null,
      "metadata": {
        "collapsed": false
      },
      "outputs": [],
      "source": [
        "fig = draw_S(figsize=(2, 2))\n\n# Save the figure\nplt.savefig(\n    \"skada_logo.svg\",\n    dpi=300,\n)\nplt.savefig(\n    \"skada_logo.pdf\",\n    dpi=300,\n)"
      ]
    },
    {
      "cell_type": "code",
      "execution_count": null,
      "metadata": {
        "collapsed": false
      },
      "outputs": [],
      "source": [
        "fig = draw_S(figsize=(6, 2))\n\nfontsize = 85\ny_axis = 1.5\nplt.text(\n    10,\n    y_axis,\n    r\"\\bf\\textsf{K}\",\n    usetex=True,\n    fontsize=fontsize,\n    color=\"black\",\n)\nplt.text(\n    17,\n    y_axis,\n    r\"\\bf\\textsf{A}\",\n    usetex=True,\n    fontsize=fontsize,\n    color=\"black\",\n)\nplt.text(\n    23.5,\n    y_axis,\n    r\"\\bf\\textsf{D}\",\n    usetex=True,\n    fontsize=fontsize,\n    color=color_1,\n)\nplt.text(\n    30.5,\n    y_axis,\n    r\"\\bf\\textsf{A}\",\n    usetex=True,\n    fontsize=fontsize,\n    color=color_0,\n)\n\n# plt.tight_layout()\n# Save the figure\nplt.savefig(\n    \"skada_logo_full.svg\",\n    dpi=300,\n    bbox_inches=\"tight\",\n)\nplt.savefig(\n    \"skada_logo_full.pdf\",\n    dpi=300,\n    bbox_inches=\"tight\",\n)"
      ]
    },
    {
      "cell_type": "code",
      "execution_count": null,
      "metadata": {
        "collapsed": false
      },
      "outputs": [],
      "source": [
        "fig = draw_S(figsize=(6, 2), white=True)\n\nfontsize = 85\ny_axis = 1.5\nplt.text(\n    10,\n    y_axis,\n    r\"\\bf\\textsf{K}\",\n    usetex=True,\n    fontsize=fontsize,\n    color=\"w\",\n)\nplt.text(\n    17,\n    y_axis,\n    r\"\\bf\\textsf{A}\",\n    usetex=True,\n    fontsize=fontsize,\n    color=\"w\",\n)\nplt.text(\n    23.5,\n    y_axis,\n    r\"\\bf\\textsf{D}\",\n    usetex=True,\n    fontsize=fontsize,\n    color=\"w\",\n)\nplt.text(\n    30.5,\n    y_axis,\n    r\"\\bf\\textsf{A}\",\n    usetex=True,\n    fontsize=fontsize,\n    color=\"w\",\n)\n\n\n# Save the figure\nplt.savefig(\"skada_logo_full_white.svg\", transparent=True)\nplt.savefig(\"skada_logo_full_white.pdf\", transparent=True)"
      ]
    }
  ],
  "metadata": {
    "kernelspec": {
      "display_name": "Python 3",
      "language": "python",
      "name": "python3"
    },
    "language_info": {
      "codemirror_mode": {
        "name": "ipython",
        "version": 3
      },
      "file_extension": ".py",
      "mimetype": "text/x-python",
      "name": "python",
      "nbconvert_exporter": "python",
      "pygments_lexer": "ipython3",
      "version": "3.10.16"
    }
  },
  "nbformat": 4,
  "nbformat_minor": 0
}