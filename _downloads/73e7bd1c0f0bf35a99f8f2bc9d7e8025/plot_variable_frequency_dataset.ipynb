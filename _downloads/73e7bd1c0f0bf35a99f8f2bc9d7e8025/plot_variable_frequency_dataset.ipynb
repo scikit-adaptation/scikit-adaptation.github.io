{
  "cells": [
    {
      "cell_type": "markdown",
      "metadata": {},
      "source": [
        "\n# Plot dataset source domain and shifted target domain\n\nThis illustrates the :func:`~skada.datasets.make_variable_frequency_dataset`\ndataset generator. Each method consists of generating source data\nand shifted target data.\n"
      ]
    },
    {
      "cell_type": "code",
      "execution_count": null,
      "metadata": {
        "collapsed": false
      },
      "outputs": [],
      "source": [
        "import matplotlib.pyplot as plt\nimport numpy as np\n\nfrom skada import source_target_split\nfrom skada.datasets import make_variable_frequency_dataset\n\n# Use same random seed for multiple calls to make_datasets to\n# ensure same distributions\nRANDOM_SEED = np.random.randint(2**10)"
      ]
    },
    {
      "cell_type": "code",
      "execution_count": null,
      "metadata": {
        "collapsed": false
      },
      "outputs": [],
      "source": [
        "X, y, sample_domain = make_variable_frequency_dataset(\n    n_samples_source=1,\n    n_samples_target=1,\n    n_channels=3,\n    n_frequencies=2,\n    n_classes=2,\n    delta_f=2,\n    band_size=1,\n    sigma_ch=1,\n    noise=0.2,\n    random_state=RANDOM_SEED,\n)\n\nX_source, X_target, y_source, y_target = source_target_split(\n    X, y, sample_domain=sample_domain\n)"
      ]
    },
    {
      "cell_type": "code",
      "execution_count": null,
      "metadata": {
        "collapsed": false
      },
      "outputs": [],
      "source": [
        "fig, ax = plt.subplots(3, 2, sharex=\"all\", sharey=\"all\", figsize=(8, 4))\nplt.subplots_adjust(bottom=0.15)\nfig.suptitle(\"Signal visualisation\")\ntime = np.linspace(0, 1, 100)\nfor i in range(3):\n    ax[i, 0].plot(time, X_source[0, i, 1000:1100], alpha=0.7, label=\"source\")\n    ax[i, 0].set_ylabel(f\"chan {i}\")\n    ax[i, 0].plot(time, X_target[0, i, 1000:1100], alpha=0.7, label=\"target\")\n\n    ax[i, 1].plot(time, X_source[1, i, 1000:1100], alpha=0.7)\n    ax[i, 1].plot(time, X_target[1, i, 1000:1100], alpha=0.7)\nax[0, 0].set_title(\"Class 1\")\nax[0, 1].set_title(\"Class 2\")\nax[2, 0].set_xlabel(\"Time (s)\")\nax[2, 1].set_xlabel(\"Time (s)\")\nax[0, 0].legend()\nplt.show()"
      ]
    },
    {
      "cell_type": "code",
      "execution_count": null,
      "metadata": {
        "collapsed": false
      },
      "outputs": [],
      "source": [
        "fig, ax = plt.subplots(3, 2, sharex=\"all\", sharey=\"all\", figsize=(8, 4))\nplt.subplots_adjust(bottom=0.15)\nfig.suptitle(\"PSD shift\")\nfor i in range(3):\n    ax[i, 0].psd(X_source[0, i], Fs=100, alpha=0.7, label=\"source\")\n    ax[i, 0].psd(X_target[0, i], Fs=100, alpha=0.7, label=\"target\")\n\n    ax[i, 1].psd(X_source[1, i], Fs=100, alpha=0.7)\n    ax[i, 1].psd(X_target[1, i], Fs=100, alpha=0.7)\nax[0, 0].legend()\nax[0, 0].set_title(\"Class 1\")\nax[0, 1].set_title(\"Class 2\")\nfor i in range(3):\n    ax[i, 0].set_ylabel(f\"PSD chan {i}\")\n    ax[i, 1].set_ylabel(\"\")\n    ax[i, 0].set_xlabel(\"\")\n    ax[i, 1].set_xlabel(\"\")\nax[2, 0].set_xlabel(\"Frequency\")\nax[2, 1].set_xlabel(\"Frequency\")\nplt.show()\n\nprint(f\"The data was generated from (random_state={RANDOM_SEED})\")"
      ]
    }
  ],
  "metadata": {
    "kernelspec": {
      "display_name": "Python 3",
      "language": "python",
      "name": "python3"
    },
    "language_info": {
      "codemirror_mode": {
        "name": "ipython",
        "version": 3
      },
      "file_extension": ".py",
      "mimetype": "text/x-python",
      "name": "python",
      "nbconvert_exporter": "python",
      "pygments_lexer": "ipython3",
      "version": "3.10.14"
    }
  },
  "nbformat": 4,
  "nbformat_minor": 0
}