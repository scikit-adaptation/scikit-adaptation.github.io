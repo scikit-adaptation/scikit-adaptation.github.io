{
  "cells": [
    {
      "cell_type": "markdown",
      "metadata": {},
      "source": [
        "\n# Comparison of DA classification methods\n\nA comparison of a several methods of DA in skada on\nsynthetic datasets. The point of this example is to\nillustrate the nature of decision boundaries of\ndifferent methods. This should be taken with a grain\nof salt, as the intuition conveyed by these examples\ndoes not necessarily carry over to real datasets.\n\n\nThe plots show training points in solid colors then\ntraining points in semi-transparent and testing points\nin solid colors. The lower right shows the classification\naccuracy on the test set.\n"
      ]
    },
    {
      "cell_type": "code",
      "execution_count": null,
      "metadata": {
        "collapsed": false
      },
      "outputs": [],
      "source": [
        "import matplotlib.pyplot as plt\nfrom matplotlib.colors import ListedColormap\nfrom sklearn.inspection import DecisionBoundaryDisplay\nfrom sklearn.neighbors import KernelDensity\nfrom sklearn.svm import SVC\n\nfrom skada import (\n    CORAL,\n    KLIEP,\n    ClassRegularizerOTMapping,\n    DiscriminatorReweightDensity,\n    EntropicOTMapping,\n    GaussianReweightDensity,\n    JDOTClassifier,\n    LinearOTMapping,\n    MMDLSConSMapping,\n    MMDTarSReweight,\n    OTMapping,\n    ReweightDensity,\n    SubspaceAlignment,\n    TransferComponentAnalysis,\n)\nfrom skada.datasets import make_shifted_datasets\n\n# Use same random seed for multiple calls to make_datasets to\n# ensure same distributions\nRANDOM_SEED = 42\n\nnames = [\n    \"Without da\",\n    \"Reweight Density\",\n    \"Gaussian Reweight\",\n    \"Discr. Reweight\",\n    \"KLIEP\",\n    \"MMD TarS\",\n    \"Subspace Alignment\",\n    \"TCA\",\n    \"OT mapping\",\n    \"Entropic OT mapping\",\n    \"Class Reg. OT mapping\",\n    \"Linear OT mapping\",\n    \"CORAL\",\n    \"JDOT\",\n    \"MMD Loc-Scale mapping\",\n]\n\nclassifiers = [\n    SVC(),\n    ReweightDensity(\n        base_estimator=SVC().set_fit_request(sample_weight=True),\n        weight_estimator=KernelDensity(bandwidth=0.5),\n    ),\n    GaussianReweightDensity(SVC().set_fit_request(sample_weight=True)),\n    DiscriminatorReweightDensity(SVC().set_fit_request(sample_weight=True)),\n    KLIEP(SVC().set_fit_request(sample_weight=True), gamma=[1, 0.1, 0.001]),\n    MMDTarSReweight(SVC().set_fit_request(sample_weight=True), gamma=1),\n    SubspaceAlignment(base_estimator=SVC(), n_components=1),\n    TransferComponentAnalysis(base_estimator=SVC(), n_components=1, mu=0.5),\n    OTMapping(base_estimator=SVC()),\n    EntropicOTMapping(base_estimator=SVC()),\n    ClassRegularizerOTMapping(base_estimator=SVC()),\n    LinearOTMapping(base_estimator=SVC()),\n    CORAL(base_estimator=SVC()),\n    JDOTClassifier(base_estimator=SVC(), metric=\"hinge\"),\n    MMDLSConSMapping(base_estimator=SVC()),\n]\n\ndatasets = [\n    make_shifted_datasets(\n        n_samples_source=20,\n        n_samples_target=20,\n        shift=\"covariate_shift\",\n        label=\"binary\",\n        noise=0.4,\n        random_state=RANDOM_SEED,\n        return_dataset=True,\n    ),\n    make_shifted_datasets(\n        n_samples_source=20,\n        n_samples_target=20,\n        shift=\"target_shift\",\n        label=\"binary\",\n        noise=0.4,\n        random_state=RANDOM_SEED,\n        return_dataset=True,\n    ),\n    make_shifted_datasets(\n        n_samples_source=20,\n        n_samples_target=20,\n        shift=\"concept_drift\",\n        label=\"binary\",\n        noise=0.4,\n        random_state=RANDOM_SEED,\n        return_dataset=True,\n    ),\n    make_shifted_datasets(\n        n_samples_source=20,\n        n_samples_target=20,\n        shift=\"subspace\",\n        label=\"binary\",\n        noise=0.4,\n        random_state=RANDOM_SEED,\n        return_dataset=True,\n    ),\n]\n\nfigure, axes = plt.subplots(len(classifiers) + 2, len(datasets), figsize=(9, 27))\n# iterate over datasets\nfor ds_cnt, ds in enumerate(datasets):\n    # preprocess dataset, split into training and test part\n    X, y, sample_domain = ds.pack_train(as_sources=[\"s\"], as_targets=[\"t\"])\n    Xs, ys = ds.get_domain(\"s\")\n    Xt, yt = ds.get_domain(\"t\")\n\n    x_min, x_max = X[:, 0].min() - 0.5, X[:, 0].max() + 0.5\n    y_min, y_max = X[:, 1].min() - 0.5, X[:, 1].max() + 0.5\n    # just plot the dataset first\n    cm = plt.cm.RdBu\n    cm_bright = ListedColormap([\"#FF0000\", \"#0000FF\"])\n    ax = axes[0, ds_cnt]\n    if ds_cnt == 0:\n        ax.set_ylabel(\"Source data\")\n    # Plot the source points\n    ax.scatter(\n        Xs[:, 0],\n        Xs[:, 1],\n        c=ys,\n        cmap=cm_bright,\n        alpha=0.5,\n    )\n\n    ax = axes[1, ds_cnt]\n\n    if ds_cnt == 0:\n        ax.set_ylabel(\"Target data\")\n    # Plot the target points\n    ax.scatter(\n        Xs[:, 0],\n        Xs[:, 1],\n        c=ys,\n        cmap=cm_bright,\n        alpha=0.1,\n    )\n    ax.scatter(\n        Xt[:, 0],\n        Xt[:, 1],\n        c=yt,\n        cmap=cm_bright,\n        alpha=0.5,\n    )\n    ax.set_xlim(x_min, x_max)\n    ax.set_ylim(y_min, y_max)\n    ax.set_xticks(())\n    ax.set_yticks(())\n    i = 2\n\n    # iterate over classifiers\n    for name, clf in zip(names, classifiers):\n        print(name, clf)\n        ax = axes[i, ds_cnt]\n        ax.set_xlim(x_min, x_max)\n        ax.set_ylim(y_min, y_max)\n        if name == \"Without da\":\n            clf.fit(Xs, ys)\n        else:\n            clf.fit(X, y, sample_domain=sample_domain)\n        score = clf.score(Xt, yt)\n        DecisionBoundaryDisplay.from_estimator(\n            clf,\n            X,\n            cmap=cm,\n            alpha=0.8,\n            ax=ax,\n            eps=0.5,\n            response_method=\"predict\",\n        )\n\n        # Plot the target points\n        ax.scatter(\n            Xt[:, 0],\n            Xt[:, 1],\n            c=yt,\n            cmap=cm_bright,\n            alpha=0.5,\n        )\n\n        ax.set_xlim(x_min, x_max)\n\n        ax.set_xticks(())\n        ax.set_yticks(())\n        if ds_cnt == 0:\n            ax.set_ylabel(name)\n        ax.text(\n            x_max - 0.3,\n            y_min + 0.3,\n            (\"%.2f\" % score).lstrip(\"0\"),\n            size=15,\n            horizontalalignment=\"right\",\n        )\n        i += 1\n\nplt.tight_layout()\nplt.show()"
      ]
    }
  ],
  "metadata": {
    "kernelspec": {
      "display_name": "Python 3",
      "language": "python",
      "name": "python3"
    },
    "language_info": {
      "codemirror_mode": {
        "name": "ipython",
        "version": 3
      },
      "file_extension": ".py",
      "mimetype": "text/x-python",
      "name": "python",
      "nbconvert_exporter": "python",
      "pygments_lexer": "ipython3",
      "version": "3.10.13"
    }
  },
  "nbformat": 4,
  "nbformat_minor": 0
}