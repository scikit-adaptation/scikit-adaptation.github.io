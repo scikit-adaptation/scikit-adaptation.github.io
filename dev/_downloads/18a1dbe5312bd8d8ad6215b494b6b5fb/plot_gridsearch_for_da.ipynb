{
  "cells": [
    {
      "cell_type": "markdown",
      "metadata": {},
      "source": [
        "\n# Using GridSearchCV with skada\n\nThis illustrates the use of DA scorer such as :class:`~skada.metrics.ImportanceWeightedScorer`\nwith [GridSearchCV](https://scikit-learn.org/stable/modules/generated/sklearn.model_selection.GridSearchCV.html).\n"
      ]
    },
    {
      "cell_type": "markdown",
      "metadata": {},
      "source": [
        "Prepare dataset and the estimator\n\n"
      ]
    },
    {
      "cell_type": "code",
      "execution_count": null,
      "metadata": {
        "collapsed": false
      },
      "outputs": [],
      "source": [
        "import warnings\n\nimport matplotlib.pyplot as plt\nfrom sklearn.inspection import DecisionBoundaryDisplay\nfrom sklearn.model_selection import GridSearchCV, ShuffleSplit\nfrom sklearn.svm import SVC\n\nfrom skada import EntropicOTMapping\nfrom skada.datasets import make_shifted_datasets\nfrom skada.metrics import PredictionEntropyScorer\n\nwarnings.filterwarnings(\"ignore\")\n\n\ndataset = make_shifted_datasets(\n    n_samples_source=30,\n    n_samples_target=20,\n    shift=\"concept_drift\",\n    label=\"binary\",\n    noise=0.4,\n    random_state=42,\n    return_dataset=True,\n)\nX, y, sample_domain = dataset.pack_train(as_sources=[\"s\"], as_targets=[\"t\"])\nX_target, y_target, _ = dataset.pack_test(as_targets=[\"t\"])"
      ]
    },
    {
      "cell_type": "markdown",
      "metadata": {},
      "source": [
        "Run grid search\n\n"
      ]
    },
    {
      "cell_type": "code",
      "execution_count": null,
      "metadata": {
        "collapsed": false
      },
      "outputs": [],
      "source": [
        "reg_e = [0.01, 0.05, 0.1]\nestimator = EntropicOTMapping(base_estimator=SVC(probability=True))\ncv = ShuffleSplit(n_splits=5, test_size=0.3, random_state=0)\ngrid_search = GridSearchCV(\n    estimator,\n    {\"entropicotmappingadapter__reg_e\": reg_e},\n    cv=cv,\n    scoring=PredictionEntropyScorer(),\n)\n\ngrid_search.fit(X, y, sample_domain=sample_domain)\n\nbest_reg_e = grid_search.best_params_[\"entropicotmappingadapter__reg_e\"]\nprint(f\"Best regularization parameter: {best_reg_e}\")"
      ]
    },
    {
      "cell_type": "markdown",
      "metadata": {},
      "source": [
        "Plot the results\n\n"
      ]
    },
    {
      "cell_type": "code",
      "execution_count": null,
      "metadata": {
        "collapsed": false
      },
      "outputs": [],
      "source": [
        "plt.plot(\n    grid_search.cv_results_[\"param_entropicotmappingadapter__reg_e\"],\n    grid_search.cv_results_[\"mean_test_score\"],\n)\nplt.xlabel(\"Regulariation parameter\")\nplt.ylabel(\"Prediction entropy score\")\nplt.show()"
      ]
    },
    {
      "cell_type": "code",
      "execution_count": null,
      "metadata": {
        "collapsed": false
      },
      "outputs": [],
      "source": [
        "DecisionBoundaryDisplay.from_estimator(\n    grid_search.best_estimator_,\n    X_target,\n    alpha=0.8,\n    eps=0.5,\n    response_method=\"predict\",\n)\n\n# Plot the target points\nplt.scatter(\n    X_target[:, 0],\n    X_target[:, 1],\n    c=y_target,\n    alpha=0.5,\n)\nplt.show()"
      ]
    }
  ],
  "metadata": {
    "kernelspec": {
      "display_name": "Python 3",
      "language": "python",
      "name": "python3"
    },
    "language_info": {
      "codemirror_mode": {
        "name": "ipython",
        "version": 3
      },
      "file_extension": ".py",
      "mimetype": "text/x-python",
      "name": "python",
      "nbconvert_exporter": "python",
      "pygments_lexer": "ipython3",
      "version": "3.10.14"
    }
  },
  "nbformat": 4,
  "nbformat_minor": 0
}