{
  "cells": [
    {
      "cell_type": "markdown",
      "metadata": {},
      "source": [
        "\n# Optimal transport domain adaptation methods.\n\nThis example illustrates the Optimal Transport deep DA method from\non a simple image classification task.\n"
      ]
    },
    {
      "cell_type": "code",
      "execution_count": null,
      "metadata": {
        "collapsed": false
      },
      "outputs": [],
      "source": [
        "# Author: Th\u00e9o Gnassounou\n#\n# License: BSD 3-Clause\n# sphinx_gallery_thumbnail_number = 4"
      ]
    },
    {
      "cell_type": "code",
      "execution_count": null,
      "metadata": {
        "collapsed": false
      },
      "outputs": [],
      "source": [
        "from skorch import NeuralNetClassifier\nfrom torch import nn\n\nfrom skada.datasets import load_mnist_usps\nfrom skada.deep import DeepJDOT\nfrom skada.deep.modules import MNISTtoUSPSNet"
      ]
    },
    {
      "cell_type": "markdown",
      "metadata": {},
      "source": [
        "## Load the image datasets\n\n"
      ]
    },
    {
      "cell_type": "code",
      "execution_count": null,
      "metadata": {
        "collapsed": false
      },
      "outputs": [],
      "source": [
        "dataset = load_mnist_usps(n_classes=2, n_samples=0.5, return_dataset=True)\nX, y, sample_domain = dataset.pack_train(as_sources=[\"mnist\"], as_targets=[\"usps\"])\nX_test, y_test, sample_domain_test = dataset.pack_test(as_targets=[\"usps\"])"
      ]
    },
    {
      "cell_type": "markdown",
      "metadata": {},
      "source": [
        "## Train a classic model\n\n"
      ]
    },
    {
      "cell_type": "code",
      "execution_count": null,
      "metadata": {
        "collapsed": false
      },
      "outputs": [],
      "source": [
        "model = NeuralNetClassifier(\n    MNISTtoUSPSNet(),\n    criterion=nn.CrossEntropyLoss(),\n    batch_size=128,\n    max_epochs=5,\n    train_split=False,\n    lr=1e-2,\n)\nmodel.fit(X[sample_domain > 0], y[sample_domain > 0])\nmodel.score(X_test, y=y_test)"
      ]
    },
    {
      "cell_type": "markdown",
      "metadata": {},
      "source": [
        "## Train a DeepJDOT model\n\n"
      ]
    },
    {
      "cell_type": "code",
      "execution_count": null,
      "metadata": {
        "collapsed": false
      },
      "outputs": [],
      "source": [
        "model = DeepJDOT(\n    MNISTtoUSPSNet(),\n    layer_name=\"fc1\",\n    batch_size=128,\n    max_epochs=5,\n    train_split=False,\n    reg_dist=0.1,\n    reg_cl=0.01,\n    lr=1e-2,\n)\nmodel.fit(X, y, sample_domain=sample_domain)\nmodel.score(X_test, y_test, sample_domain=sample_domain_test)"
      ]
    }
  ],
  "metadata": {
    "kernelspec": {
      "display_name": "Python 3",
      "language": "python",
      "name": "python3"
    },
    "language_info": {
      "codemirror_mode": {
        "name": "ipython",
        "version": 3
      },
      "file_extension": ".py",
      "mimetype": "text/x-python",
      "name": "python",
      "nbconvert_exporter": "python",
      "pygments_lexer": "ipython3",
      "version": "3.10.16"
    }
  },
  "nbformat": 4,
  "nbformat_minor": 0
}