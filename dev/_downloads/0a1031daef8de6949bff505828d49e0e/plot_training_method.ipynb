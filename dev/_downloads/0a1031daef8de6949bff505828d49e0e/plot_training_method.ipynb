{
  "cells": [
    {
      "cell_type": "markdown",
      "metadata": {},
      "source": [
        "\n# Training setup for deep DA method.\n\nThis example illustrates the use of deep DA methods in Skada.\non a simple image classification task.\n"
      ]
    },
    {
      "cell_type": "code",
      "execution_count": null,
      "metadata": {
        "collapsed": false
      },
      "outputs": [],
      "source": [
        "# Author: Th\u00e9o Gnassounou\n#\n# License: BSD 3-Clause\n# sphinx_gallery_thumbnail_number = 4"
      ]
    },
    {
      "cell_type": "code",
      "execution_count": null,
      "metadata": {
        "collapsed": false
      },
      "outputs": [],
      "source": [
        "import torch\nfrom skorch.dataset import Dataset\n\nfrom skada.datasets import load_mnist_usps\nfrom skada.deep import DeepCoral, DeepCoralLoss\nfrom skada.deep.base import (\n    DomainAwareCriterion,\n    DomainAwareModule,\n    DomainBalancedDataLoader,\n)\nfrom skada.deep.modules import MNISTtoUSPSNet"
      ]
    },
    {
      "cell_type": "markdown",
      "metadata": {},
      "source": [
        "## Load the image datasets\n\n"
      ]
    },
    {
      "cell_type": "code",
      "execution_count": null,
      "metadata": {
        "collapsed": false
      },
      "outputs": [],
      "source": [
        "dataset = load_mnist_usps(n_classes=2, n_samples=0.5, return_dataset=True)\nX, y, sample_domain = dataset.pack_train(as_sources=[\"mnist\"], as_targets=[\"usps\"])\nX_test, y_test, sample_domain_test = dataset.pack_test(as_targets=[\"usps\"])"
      ]
    },
    {
      "cell_type": "markdown",
      "metadata": {},
      "source": [
        "## Training parameters\n\n"
      ]
    },
    {
      "cell_type": "code",
      "execution_count": null,
      "metadata": {
        "collapsed": false
      },
      "outputs": [],
      "source": [
        "max_epochs = 2\nbatch_size = 256\nlr = 1e-3\nreg = 1\ndevice = torch.device(\"cuda\" if torch.cuda.is_available() else \"cpu\")"
      ]
    },
    {
      "cell_type": "markdown",
      "metadata": {},
      "source": [
        "## Training with skorch\n\n"
      ]
    },
    {
      "cell_type": "code",
      "execution_count": null,
      "metadata": {
        "collapsed": false
      },
      "outputs": [],
      "source": [
        "model = DeepCoral(\n    MNISTtoUSPSNet(),\n    layer_name=\"fc1\",\n    batch_size=batch_size,\n    max_epochs=max_epochs,\n    train_split=False,\n    reg=reg,\n    lr=lr,\n    device=device,\n)\nmodel.fit(X, y, sample_domain=sample_domain)"
      ]
    },
    {
      "cell_type": "markdown",
      "metadata": {},
      "source": [
        "## Training with skorch with dataset\n\n"
      ]
    },
    {
      "cell_type": "code",
      "execution_count": null,
      "metadata": {
        "collapsed": false
      },
      "outputs": [],
      "source": [
        "X_dict = {\"X\": torch.tensor(X), \"sample_domain\": torch.tensor(sample_domain)}\n\n# TODO create a dataset also without skorch\ndataset = Dataset(X_dict, torch.tensor(y))\n\nmodel = DeepCoral(\n    MNISTtoUSPSNet(),\n    layer_name=\"fc1\",\n    batch_size=batch_size,\n    max_epochs=max_epochs,\n    train_split=False,\n    reg=reg,\n    lr=lr,\n    device=device,\n)\nmodel.fit(dataset, y=None, sample_domain=None)"
      ]
    },
    {
      "cell_type": "markdown",
      "metadata": {},
      "source": [
        "## Training with torch\n\n"
      ]
    },
    {
      "cell_type": "code",
      "execution_count": null,
      "metadata": {
        "collapsed": false
      },
      "outputs": [],
      "source": [
        "model = DomainAwareModule(MNISTtoUSPSNet(), layer_name=\"fc1\").to(device)\noptimizer = torch.optim.Adam(model.parameters(), lr=lr)\ndataloader = DomainBalancedDataLoader(dataset, batch_size=batch_size)\nloss_fn = DomainAwareCriterion(torch.nn.CrossEntropyLoss(), DeepCoralLoss(), reg=reg)\n\n# Training loop\nfor epoch in range(max_epochs):\n    model.train()\n    running_loss = 0.0\n    iter = 0\n    for inputs, labels in dataloader:\n        inputs, labels = inputs, labels.to(device)\n\n        # Zero the gradients\n        optimizer.zero_grad()\n\n        # Forward pass\n        outputs = model(**inputs, is_fit=True)\n        loss = loss_fn(outputs, labels)\n\n        # Backward pass and optimization\n        loss.backward()\n        optimizer.step()\n\n        running_loss += loss.item()\n        iter += 1\n    print(\"Loss:\", running_loss / iter)"
      ]
    }
  ],
  "metadata": {
    "kernelspec": {
      "display_name": "Python 3",
      "language": "python",
      "name": "python3"
    },
    "language_info": {
      "codemirror_mode": {
        "name": "ipython",
        "version": 3
      },
      "file_extension": ".py",
      "mimetype": "text/x-python",
      "name": "python",
      "nbconvert_exporter": "python",
      "pygments_lexer": "ipython3",
      "version": "3.10.14"
    }
  },
  "nbformat": 4,
  "nbformat_minor": 0
}