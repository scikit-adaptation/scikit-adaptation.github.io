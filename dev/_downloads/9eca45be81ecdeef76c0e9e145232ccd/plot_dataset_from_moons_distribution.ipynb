{
  "cells": [
    {
      "cell_type": "markdown",
      "metadata": {},
      "source": [
        "\n# Plot dataset source domain and shifted target domain\n\nThis illustrates the :func:`~skada.datasets.make_dataset_from_moons_distribution`\ndataset generator. Each method consists of generating source data\nand shifted target data.\n"
      ]
    },
    {
      "cell_type": "code",
      "execution_count": null,
      "metadata": {
        "collapsed": false
      },
      "outputs": [],
      "source": [
        "import numpy as np\nimport matplotlib.pyplot as plt\n\nfrom skada.datasets import make_dataset_from_moons_distribution\nfrom skada import source_target_split\n\n# Use same random seed for multiple calls to make_shifted_datasets to\n# ensure same distributions\nRANDOM_SEED = np.random.randint(2**10)"
      ]
    },
    {
      "cell_type": "code",
      "execution_count": null,
      "metadata": {
        "collapsed": false
      },
      "outputs": [],
      "source": [
        "X, y, sample_domain = make_dataset_from_moons_distribution(\n    pos_source=0.1,\n    pos_target=0.4,\n    n_samples_source=50,\n    n_samples_target=50,\n    noise=0.1,\n    random_state=RANDOM_SEED\n)\n\nX_source, X_target, y_source, y_target = source_target_split(\n    X, y, sample_domain=sample_domain\n)\n\nfig, (ax1, ax2) = plt.subplots(1, 2, sharex=\"row\", sharey=\"row\", figsize=(8, 4))\nfig.suptitle('One source and one target', fontsize=14)\nplt.subplots_adjust(bottom=0.15)\nax1.scatter(\n    X_source[:, 0],\n    X_source[:, 1],\n    c=y_source,\n    cmap='tab10',\n    vmax=10,\n    alpha=0.5,)\nax1.set_title(\"Source data\")\nax1.set_xlabel(\"Feature 1\")\nax1.set_ylabel(\"Feature 2\")\n\nax2.scatter(\n    X_source[:, 0],\n    X_source[:, 1],\n    c=\"grey\",\n    cmap='tab10',\n    vmax=10,\n    alpha=0.1,)\nax2.scatter(\n    X_target[:, 0],\n    X_target[:, 1],\n    c=y_target,\n    cmap='tab10',\n    vmax=10,\n    alpha=0.5,)\nax2.set_title(\"Target data\")\nax2.set_xlabel(\"Feature 1\")\nax2.set_ylabel(\"Feature 2\")\n\nplt.show()"
      ]
    },
    {
      "cell_type": "code",
      "execution_count": null,
      "metadata": {
        "collapsed": false
      },
      "outputs": [],
      "source": [
        "X, y, sample_domain = make_dataset_from_moons_distribution(\n    pos_source=[0.1, 0.3, 0.5],\n    pos_target=[0.4, 0.9],\n    n_samples_source=50,\n    n_samples_target=50,\n    noise=0.1,\n    random_state=RANDOM_SEED\n)\n\nX_source, X_target, y_source, y_target, domain_source, domain_target = (\n    source_target_split(X, y, sample_domain, sample_domain=sample_domain)\n)\nfig, (ax1, ax2) = plt.subplots(1, 2, sharex=\"row\", sharey=\"row\", figsize=(8, 4))\nfig.suptitle('Multi-source and Multi-target', fontsize=14)\nplt.subplots_adjust(bottom=0.15)\n\nfor i in np.unique(domain_source):\n    ax1.scatter(\n        X_source[domain_source == i, 0],\n        X_source[domain_source == i, 1],\n        c=y_source[domain_source == i],\n        cmap='tab10',\n        vmax=10,\n        alpha=0.5,)\nax1.set_title(\"Source data\")\nax1.set_xlabel(\"Feature 1\")\nax1.set_ylabel(\"Feature 2\")\n\nfor i in np.unique(domain_source):\n    ax2.scatter(\n        X_source[domain_source == i, 0],\n        X_source[domain_source == i, 1],\n        c=\"grey\",\n        cmap='tab10',\n        vmax=10,\n        alpha=0.1,)\nfor i in np.unique(domain_target):\n    ax2.scatter(\n        X_target[domain_target == i, 0],\n        X_target[domain_target == i, 1],\n        c=y_target[domain_target == i],\n        cmap='tab10',\n        vmax=10,\n        alpha=0.5,)\nax2.set_title(\"Target data\")\nax2.set_xlabel(\"Feature 1\")\nax2.set_ylabel(\"Feature 2\")\n\nplt.show()\n\nprint(f\"The data was generated from (random_state={RANDOM_SEED})\")"
      ]
    }
  ],
  "metadata": {
    "kernelspec": {
      "display_name": "Python 3",
      "language": "python",
      "name": "python3"
    },
    "language_info": {
      "codemirror_mode": {
        "name": "ipython",
        "version": 3
      },
      "file_extension": ".py",
      "mimetype": "text/x-python",
      "name": "python",
      "nbconvert_exporter": "python",
      "pygments_lexer": "ipython3",
      "version": "3.10.13"
    }
  },
  "nbformat": 4,
  "nbformat_minor": 0
}