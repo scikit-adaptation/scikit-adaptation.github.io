{
  "cells": [
    {
      "cell_type": "markdown",
      "metadata": {},
      "source": [
        "\n# Plot dataset source domain and shifted target domain\n\nThis illustrates the :func:`~skada.datasets.make_shifted_dataset`\ndataset generator. Each method consists of generating source data\nand shifted target data. We illustrate here:\ncovariate shift, target shift, concept drift, and sample bias.\nSee detailed description of each shift in [1]_.\n\n.. [1] Moreno-Torres, J. G., Raeder, T., Alaiz-Rodriguez,\n       R., Chawla, N. V., and Herrera, F. (2012).\n       A unifying view on dataset shift in classification.\n       Pattern recognition, 45(1):521-530.\n"
      ]
    },
    {
      "cell_type": "code",
      "execution_count": null,
      "metadata": {
        "collapsed": false
      },
      "outputs": [],
      "source": [
        "import matplotlib.pyplot as plt\n\nfrom skada.datasets import make_shifted_datasets\nfrom skada import source_target_split"
      ]
    },
    {
      "cell_type": "code",
      "execution_count": null,
      "metadata": {
        "collapsed": false
      },
      "outputs": [],
      "source": [
        "def plot_shifted_dataset(shift, random_state=42):\n    \"\"\"Plot source and shifted target data for a given type of shift.\n\n    The possible shifts are 'covariate_shift', 'target_shift',\n    'concept_drift' or 'subspace'.\n\n    We use here the same random seed for multiple calls to\n    ensure same distributions.\n    \"\"\"\n    X, y, sample_domain = make_shifted_datasets(\n        n_samples_source=20,\n        n_samples_target=20,\n        shift=shift,\n        noise=0.3,\n        label=\"regression\",\n        random_state=random_state,\n    )\n    X_source, X_target, y_source, y_target = source_target_split(\n        X, y, sample_domain=sample_domain)\n\n    fig, (ax1, ax2) = plt.subplots(1, 2, sharex=\"row\", sharey=\"row\", figsize=(8, 4))\n    fig.suptitle(shift.replace(\"_\", \" \").title(), fontsize=14)\n    plt.subplots_adjust(bottom=0.15)\n    ax1.scatter(\n        X_source[:, 0],\n        X_source[:, 1],\n        c=y_source,\n        vmax=max(y),\n        alpha=0.5,\n        cmap=\"autumn\"\n    )\n    ax1.set_title(\"Source data\")\n    ax1.set_xlabel(\"Feature 1\")\n    ax1.set_ylabel(\"Feature 2\")\n\n    s = ax2.scatter(\n        X_target[:, 0],\n        X_target[:, 1],\n        c=y_target,\n        vmax=max(y),\n        alpha=0.5,\n        cmap=\"autumn\"\n    )\n    ax2.set_title(\"Target data\")\n    ax2.set_xlabel(\"Feature 1\")\n    ax2.set_ylabel(\"Feature 2\")\n\n    fig.subplots_adjust(right=0.8)\n    cbar_ax = fig.add_axes([0.85, 0.15, 0.05, 0.80])\n    cb = fig.colorbar(s, cax=cbar_ax)\n    cb.set_label(\"y-value\")\n\n    plt.show()"
      ]
    },
    {
      "cell_type": "code",
      "execution_count": null,
      "metadata": {
        "collapsed": false
      },
      "outputs": [],
      "source": [
        "for shift in [\n    \"covariate_shift\",\n    \"target_shift\",\n    \"concept_drift\",\n    \"subspace\"\n]:\n    plot_shifted_dataset(shift)"
      ]
    }
  ],
  "metadata": {
    "kernelspec": {
      "display_name": "Python 3",
      "language": "python",
      "name": "python3"
    },
    "language_info": {
      "codemirror_mode": {
        "name": "ipython",
        "version": 3
      },
      "file_extension": ".py",
      "mimetype": "text/x-python",
      "name": "python",
      "nbconvert_exporter": "python",
      "pygments_lexer": "ipython3",
      "version": "3.10.13"
    }
  },
  "nbformat": 4,
  "nbformat_minor": 0
}