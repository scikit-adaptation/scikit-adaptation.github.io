{
  "cells": [
    {
      "cell_type": "markdown",
      "metadata": {},
      "source": [
        "\n# Deep Domain Aware Datasets\n\nThis example illustrate some uses of DeepDADatasets.\n"
      ]
    },
    {
      "cell_type": "code",
      "execution_count": null,
      "metadata": {
        "collapsed": false
      },
      "outputs": [],
      "source": [
        "# Author: Maxence Barneche\n#\n# License: BSD 3-Clause\n# sphinx_gallery_thumbnail_number = 4"
      ]
    },
    {
      "cell_type": "code",
      "execution_count": null,
      "metadata": {
        "collapsed": false
      },
      "outputs": [],
      "source": [
        "import numpy as np\nimport pandas as pd\nimport torch\n\nfrom skada.datasets import make_shifted_datasets\nfrom skada.deep.base import DeepDADataset"
      ]
    },
    {
      "cell_type": "markdown",
      "metadata": {},
      "source": [
        "## Creation\nDeep domain aware datasets are a unified representation of data for deep\nmethods in skada.\n\nIn those datasets, a data sample has four (optionally, five) attributes:\n  * the data point :code:`X`\n  * the label :code:`y`\n  * the domain :code:`sample_domain`\n  * optionally, the weight :code:`sample_weight`\n  * the sample index :code:`sample_idx` (automatically generated), which is\n      the index of the sample in the dataset, relative to its domain.\n\nNote that the data is not shuffled, so the order of the samples is preserved.\n\n.. WARNING::\n  In a dataset, either all data samples have a weight, or none of them.\n  On the other hand, it is possible that a sample has no associated label or domain.\n  In that case, it will be associated to label :code:`-1` and domain :code:`0`.\n\nDeepDADatasets can be created from numpy arrays, torch tensors, lists,\ntuples, or dictionary of one of the former.\n\nIf a dictionary is provided, it must contain the keys :code:`X`, :code:`y`(optional),\n:code:`sample_domain`(optional) and :code:`sample_weight`(optional).\n\nIf both dictionary and positional arguments are provided, the dictionary\narguments will take precedence over the positional ones.\n\n"
      ]
    },
    {
      "cell_type": "code",
      "execution_count": null,
      "metadata": {
        "collapsed": false
      },
      "outputs": [],
      "source": [
        "# practice dataset as numpy arrays\nraw_data = make_shifted_datasets(20, 20, random_state=42)\nX, y, sample_domain = raw_data\n# though these are not technically weights, they will act as such throughout the guide.\nweights = np.ones_like(y)\ndict_raw_data = {\"X\": X, \"sample_domain\": sample_domain, \"y\": y}\nweighted_dict_raw_data = {\n    \"X\": X,\n    \"sample_domain\": sample_domain,\n    \"y\": y,\n    \"sample_weight\": weights,\n}\n\ndataset = DeepDADataset(X, y, sample_domain)\ndataset_from_dict = DeepDADataset(dict_raw_data)\n# it is possible to add weights to the dataset, either at creation or later\ndataset_with_weights = DeepDADataset(X, y, sample_domain, weights)\ndataset_with_weights_from_dict = DeepDADataset(weighted_dict_raw_data)\n\n# these methods change the dataset in place and return the dataset itself\ndataset = dataset.add_weights(weights)\ndataset = dataset.remove_weights()"
      ]
    },
    {
      "cell_type": "markdown",
      "metadata": {},
      "source": [
        "It is also possible to create a DeepDADataset from lists, tuples, tensors,\npandas dataframes or any combination of those.\n\n<div class=\"alert alert-info\"><h4>Note</h4><p>Just like for the dictionary, if a pandas dataframe is provided it must\n  contain the keys :code:`X`, :code:`y` (optional), :code:`sample_domain`(optional)\n  and :code:`sample_weight` (optional).\n  Also, the data in the dataframe will take precedence over the positional arguments.</p></div>\n\n"
      ]
    },
    {
      "cell_type": "code",
      "execution_count": null,
      "metadata": {
        "collapsed": false
      },
      "outputs": [],
      "source": [
        "# from lists\ndataset_from_list = DeepDADataset(X.tolist(), y.tolist(), sample_domain.tolist())\n# from tuples\ndataset_from_tuple = DeepDADataset(\n    tuple(X.tolist()), tuple(y.tolist()), tuple(sample_domain.tolist())\n)\n\n# from torch tensors\ndataset_from_tensor = DeepDADataset(\n    torch.tensor(X), torch.tensor(y), torch.tensor(sample_domain)\n)\n\n# from pandas dataframe of same structure as the dictionary\ndf = pd.DataFrame(\n    {\n        \"X\": list(X),\n        \"y\": y,\n        \"sample_domain\": sample_domain,\n        \"sample_weight\": weights,\n    }\n)\ndataset_from_df = DeepDADataset(df)"
      ]
    },
    {
      "cell_type": "markdown",
      "metadata": {},
      "source": [
        "It is also possible to merge two datasets, which will concatenate the data\nsamples, the labels and the domains.\n\n"
      ]
    },
    {
      "cell_type": "code",
      "execution_count": null,
      "metadata": {
        "collapsed": false
      },
      "outputs": [],
      "source": [
        "dataset2 = dataset.merge(dataset)"
      ]
    },
    {
      "cell_type": "markdown",
      "metadata": {},
      "source": [
        "## Accessing data\n\nThe data can be accessed with the same indexing methods as for a torch tensor.\nThe returned data is a tuple with a dictionary with the keys :code:`X`,\n:code:`sample_domain`, :code:`sample_idx`, and optionally :code:`sample_weight`\nas first element and the corresponding label :code:`y` as second element.\n\n..note::\n  The data is stored in torch tensors, with dimension 1 for :code:`sample_domain`,\n  :code:`y` and :code:`sample_weight`.\n\nIt is also possible to access the data through the various selection methods,\nall of which return DeepDADatasets instances.\n\n"
      ]
    },
    {
      "cell_type": "code",
      "execution_count": null,
      "metadata": {
        "collapsed": false
      },
      "outputs": [],
      "source": [
        "# indexing methods return a tuple with the data as dict and the label\nfirst_sample = dataset[0]  # first sample\nfirst_five_samples = dataset[0:5]  # first five samples\n\n# selecting methods return a DeepDADataset with the selected samples\ndomain_1_samples = dataset.select_domain(1)  # all samples from domain 1\nlabel_1_samples = dataset.select(\n    lambda label: label == 1, on=\"y\"\n)  # all samples with label 1"
      ]
    }
  ],
  "metadata": {
    "kernelspec": {
      "display_name": "Python 3",
      "language": "python",
      "name": "python3"
    },
    "language_info": {
      "codemirror_mode": {
        "name": "ipython",
        "version": 3
      },
      "file_extension": ".py",
      "mimetype": "text/x-python",
      "name": "python",
      "nbconvert_exporter": "python",
      "pygments_lexer": "ipython3",
      "version": "3.10.18"
    }
  },
  "nbformat": 4,
  "nbformat_minor": 0
}