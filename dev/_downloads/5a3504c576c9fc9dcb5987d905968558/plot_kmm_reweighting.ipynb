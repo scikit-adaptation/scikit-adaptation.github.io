{
  "cells": [
    {
      "cell_type": "markdown",
      "metadata": {},
      "source": [
        "\n# Kernel Mean Matching\nThis example illustrates the use of KMM method [1] to correct covariate-shift.\n\n.. [1] J. Huang, A. Gretton, K. Borgwardt, B. Sch\u00f6lkopf and A. J. Smola.\n        Correcting sample selection bias by unlabeled data. In NIPS, 2007.\n"
      ]
    },
    {
      "cell_type": "code",
      "execution_count": null,
      "metadata": {
        "collapsed": false
      },
      "outputs": [],
      "source": [
        "# Author: Antoine de Mathelin\n#\n# License: BSD 3-Clause\n# sphinx_gallery_thumbnail_number = 1"
      ]
    },
    {
      "cell_type": "code",
      "execution_count": null,
      "metadata": {
        "collapsed": false
      },
      "outputs": [],
      "source": [
        "import matplotlib.pyplot as plt\nfrom matplotlib.colors import ListedColormap\nfrom sklearn.linear_model import LogisticRegression\nfrom sklearn.inspection import DecisionBoundaryDisplay\nfrom skada import KMM\nfrom skada.datasets import make_shifted_datasets"
      ]
    },
    {
      "cell_type": "markdown",
      "metadata": {},
      "source": [
        "## Generate sample bias dataset\n\n"
      ]
    },
    {
      "cell_type": "code",
      "execution_count": null,
      "metadata": {
        "collapsed": false
      },
      "outputs": [],
      "source": [
        "ds = make_shifted_datasets(\n        n_samples_source=12,\n        n_samples_target=3,\n        shift=\"covariate_shift\",\n        label=\"binary\",\n        noise=0.4,\n        random_state=123,\n        return_dataset=True\n)\nX, y, sample_domain = ds.pack_train(as_sources=['s'], as_targets=['t'])\nXs, ys = ds.get_domain(\"s\")\nXt, yt = ds.get_domain(\"t\")"
      ]
    },
    {
      "cell_type": "markdown",
      "metadata": {},
      "source": [
        "## Illustration of Importance Weighting\n\n"
      ]
    },
    {
      "cell_type": "code",
      "execution_count": null,
      "metadata": {
        "collapsed": false
      },
      "outputs": [],
      "source": [
        "for smooth in [False, True]:\n    fig, (ax1, ax2) = plt.subplots(1, 2, figsize=(12, 5))\n\n    cm = ListedColormap([\"w\", \"k\"])\n\n    base_estimator = LogisticRegression().set_fit_request(sample_weight=True)\n    kmm = KMM(base_estimator, gamma=10., max_iter=1000,\n              smooth_weights=smooth)\n    kmm.fit(X, y, sample_domain=sample_domain)\n    weights = kmm[0].transform(X, sample_domain=sample_domain,\n                               allow_source=True)\n    weights = weights[\"sample_weight\"]\n\n    src_weights = weights[sample_domain == 1]\n    src_weights /= src_weights.mean()\n    src_weights *= 30.\n\n    base_estimator.fit(Xs, ys)\n    acc = base_estimator.score(Xt, yt)\n\n    ax1.scatter(Xs[ys == 0, 0], Xs[ys == 0, 1],\n                color=\"C0\", label=\"Source 1\", edgecolor=\"b\")\n    ax1.plot(Xt[yt == 0, 0], Xt[yt == 0, 1], \"o\", c=\"r\", label=\"Target 1\")\n    ax1.scatter(Xs[ys == 1, 0], Xs[ys == 1, 1],\n                color=\"C0\", marker=\"s\", label=\"Source 2\", edgecolor=\"b\")\n    ax1.plot(Xt[yt == 1, 0], Xt[yt == 1, 1], \"s\", c=\"r\", label=\"Target 2\")\n    xlim = ax1.get_xlim()\n    ylim = ax1.get_ylim()\n    DecisionBoundaryDisplay.from_estimator(\n        base_estimator, Xs,\n        plot_method='contour', response_method=\"predict\", cmap=cm, ax=ax1\n    )\n    ax1.set_xlim(xlim)\n    ax1.set_ylim(ylim)\n    ax1.set_title(\"Before Reweighting - Acc %.2f\" % acc, fontsize=16)\n    ax1.set_xlabel(\"X1\", fontsize=14)\n    ax1.set_ylabel(\"X2\", fontsize=14)\n    ax1.legend(loc=\"lower left\", fontsize=14, ncol=2,\n               framealpha=True, edgecolor=\"k\")\n\n    acc = kmm.score(Xt, yt)\n\n    ax2.scatter(Xs[ys == 0, 0], Xs[ys == 0, 1], s=src_weights[ys == 0],\n                color=\"C0\", label=\"Source 1\", edgecolor=\"b\")\n    ax2.plot(Xt[yt == 0, 0], Xt[yt == 0, 1], \"o\", c=\"r\", alpha=0.8, label=\"Target 1\")\n    ax2.scatter(Xs[ys == 1, 0], Xs[ys == 1, 1], s=src_weights[ys == 1],\n                color=\"C0\", marker=\"s\", label=\"Source 2\", edgecolor=\"b\")\n    ax2.plot(Xt[yt == 1, 0], Xt[yt == 1, 1], \"s\", c=\"r\", alpha=0.8, label=\"Target 2\")\n    xlim = ax2.get_xlim()\n    ylim = ax2.get_ylim()\n    DecisionBoundaryDisplay.from_estimator(\n        kmm[1].base_estimator_, Xs,\n        plot_method='contour', response_method=\"predict\", cmap=cm, ax=ax2\n    )\n    ax2.set_xlim(xlim)\n    ax2.set_ylim(ylim)\n    ax2.set_title(\"After Reweighting - Acc %.2f\" % acc, fontsize=16)\n    ax2.set_xlabel(\"X1\", fontsize=14)\n    ax2.set_ylabel(\"X2\", fontsize=14)\n    ax2.legend(loc=\"lower left\", fontsize=14, ncol=2,\n               framealpha=True, edgecolor=\"k\")\n\n    ax1.tick_params(direction=\"in\", labelleft=False, labelbottom=False)\n    ax2.tick_params(direction=\"in\", labelleft=False, labelbottom=False)\n    plt.suptitle(\"Smooth Weights = %s\" % str(smooth), fontsize=16, color=\"b\")\n    plt.show()"
      ]
    }
  ],
  "metadata": {
    "kernelspec": {
      "display_name": "Python 3",
      "language": "python",
      "name": "python3"
    },
    "language_info": {
      "codemirror_mode": {
        "name": "ipython",
        "version": 3
      },
      "file_extension": ".py",
      "mimetype": "text/x-python",
      "name": "python",
      "nbconvert_exporter": "python",
      "pygments_lexer": "ipython3",
      "version": "3.10.13"
    }
  },
  "nbformat": 4,
  "nbformat_minor": 0
}