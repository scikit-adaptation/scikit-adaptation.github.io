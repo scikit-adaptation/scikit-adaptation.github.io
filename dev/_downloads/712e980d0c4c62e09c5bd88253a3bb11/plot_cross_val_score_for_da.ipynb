{
  "cells": [
    {
      "cell_type": "markdown",
      "metadata": {},
      "source": [
        "\n# Using cross_val_score with skada\n\nThis illustrates the use of DA scorer such :class:`~skada.metrics.TargetAccuracyScorer`\nwith [cross_val_score](https://scikit-learn.org/stable/modules/generated/sklearn.model_selection.cross_val_score.html#sklearn.model_selection.cross_val_score).\n"
      ]
    },
    {
      "cell_type": "markdown",
      "metadata": {},
      "source": [
        "Prepare dataset and estimators\n\n"
      ]
    },
    {
      "cell_type": "code",
      "execution_count": null,
      "metadata": {
        "collapsed": false
      },
      "outputs": [],
      "source": [
        "import matplotlib.pyplot as plt\nimport numpy as np\nfrom sklearn.model_selection import ShuffleSplit, cross_val_score\nfrom sklearn.svm import SVC\n\nfrom skada import EntropicOTMapping, source_target_split\nfrom skada.datasets import make_shifted_datasets\nfrom skada.metrics import SupervisedScorer\n\nRANDOM_SEED = 0\ndataset = make_shifted_datasets(\n    n_samples_source=30,\n    n_samples_target=20,\n    shift=\"concept_drift\",\n    label=\"binary\",\n    noise=0.4,\n    random_state=RANDOM_SEED,\n    return_dataset=True,\n)\n\nbase_estimator = SVC()\nestimator = EntropicOTMapping(base_estimator=base_estimator, reg_e=0.5, tol=1e-3)\n\nX, y, sample_domain = dataset.pack_train(as_sources=[\"s\"], as_targets=[\"t\"])\nX_source, X_target, y_source, y_target = source_target_split(\n    X, y, sample_domain=sample_domain\n)\ncv = ShuffleSplit(n_splits=5, test_size=0.3, random_state=0)"
      ]
    },
    {
      "cell_type": "markdown",
      "metadata": {},
      "source": [
        "Cross Validate using supervised labels from the target domain\n\nSupervised scoring requires target labels to be passed into the pipeline\nseparately, so they are only available for the scoring.\n\n"
      ]
    },
    {
      "cell_type": "code",
      "execution_count": null,
      "metadata": {
        "collapsed": false
      },
      "outputs": [],
      "source": [
        "_, target_labels, _ = dataset.pack(as_sources=[\"s\"], as_targets=[\"t\"], train=False)\nscores_sup = cross_val_score(\n    estimator,\n    X,\n    y,\n    cv=cv,\n    params={\"sample_domain\": sample_domain, \"target_labels\": target_labels},\n    scoring=SupervisedScorer(),\n)\n\nprint(\n    \"Cross-validation score with supervised DA: \"\n    f\"{np.mean(scores_sup):.2f} (+/- {np.std(scores_sup):.2f})\"\n)"
      ]
    },
    {
      "cell_type": "markdown",
      "metadata": {},
      "source": [
        "Compare scores with the simple estimator with no adaptation\n\n"
      ]
    },
    {
      "cell_type": "code",
      "execution_count": null,
      "metadata": {
        "collapsed": false
      },
      "outputs": [],
      "source": [
        "def _scorer(estimator, X, y):\n    return estimator.score(X_target, y_target)\n\n\nscores_no_da = cross_val_score(\n    base_estimator,\n    X_source,\n    y_source,\n    cv=cv,\n    scoring=_scorer,\n)\n\nprint(\n    \"Cross-validation score without DA: \"\n    f\"{np.mean(scores_no_da):.2f} (+/- {np.std(scores_no_da):.2f})\"\n)"
      ]
    },
    {
      "cell_type": "code",
      "execution_count": null,
      "metadata": {
        "collapsed": false
      },
      "outputs": [],
      "source": [
        "plt.figure(figsize=(6, 4))\nplt.barh(\n    [0, 1],\n    [np.mean(scores_sup), np.mean(scores_no_da)],\n    yerr=[np.std(scores_sup), np.std(scores_no_da)],\n)\nplt.yticks([0, 1], [\"DA\", \"No DA\"])\nplt.xlabel(\"Accuracy\")\nplt.axvline(0.5, color=\"k\", linestyle=\"--\", label=\"Random guess\")\nplt.legend()\nplt.show()"
      ]
    }
  ],
  "metadata": {
    "kernelspec": {
      "display_name": "Python 3",
      "language": "python",
      "name": "python3"
    },
    "language_info": {
      "codemirror_mode": {
        "name": "ipython",
        "version": 3
      },
      "file_extension": ".py",
      "mimetype": "text/x-python",
      "name": "python",
      "nbconvert_exporter": "python",
      "pygments_lexer": "ipython3",
      "version": "3.10.13"
    }
  },
  "nbformat": 4,
  "nbformat_minor": 0
}