{
  "cells": [
    {
      "cell_type": "markdown",
      "metadata": {},
      "source": [
        "\n# Optimal Transport Domain Adaptation (OTDA)\n\nThis example illustrates the OTDA method from [1] on a simple classification task.\n\n.. [1] N. Courty, R. Flamary, D. Tuia and A. Rakotomamonjy,\n        Optimal Transport for Domain Adaptation, in IEEE\n        Transactions on Pattern Analysis and Machine Intelligence\n"
      ]
    },
    {
      "cell_type": "code",
      "execution_count": null,
      "metadata": {
        "collapsed": false
      },
      "outputs": [],
      "source": [
        "# Author: Remi Flamary\n#\n# License: BSD 3-Clause\n# sphinx_gallery_thumbnail_number = 4"
      ]
    },
    {
      "cell_type": "code",
      "execution_count": null,
      "metadata": {
        "collapsed": false
      },
      "outputs": [],
      "source": [
        "import matplotlib.pyplot as plt\nfrom sklearn.inspection import DecisionBoundaryDisplay\nfrom sklearn.svm import SVC\n\nfrom skada import (\n    ClassRegularizerOTMappingAdapter,\n    EntropicOTMappingAdapter,\n    LinearOTMappingAdapter,\n    OTMapping,\n    make_da_pipeline,\n    source_target_split,\n)\nfrom skada.datasets import make_shifted_datasets"
      ]
    },
    {
      "cell_type": "markdown",
      "metadata": {},
      "source": [
        "## Generate concept drift dataset\n\n"
      ]
    },
    {
      "cell_type": "code",
      "execution_count": null,
      "metadata": {
        "collapsed": false
      },
      "outputs": [],
      "source": [
        "n_samples = 20\nX, y, sample_domain = make_shifted_datasets(\n    n_samples_source=n_samples,\n    n_samples_target=n_samples + 1,\n    shift=\"concept_drift\",\n    noise=0.1,\n    random_state=42,\n)\n\n\nX_source, X_target, y_source, y_target = source_target_split(\n    X, y, sample_domain=sample_domain\n)\n\n\nn_tot_source = X_source.shape[0]\nn_tot_target = X_target.shape[0]\n\nplt.figure(1, figsize=(8, 3.5))\nplt.subplot(121)\n\nplt.scatter(X_source[:, 0], X_source[:, 1], c=y_source, vmax=9, cmap=\"tab10\", alpha=0.7)\nplt.title(\"Source domain\")\nlims = plt.axis()\n\nplt.subplot(122)\nplt.scatter(X_target[:, 0], X_target[:, 1], c=y_target, vmax=9, cmap=\"tab10\", alpha=0.7)\nplt.title(\"Target domain\")\nplt.axis(lims)"
      ]
    },
    {
      "cell_type": "markdown",
      "metadata": {},
      "source": [
        "## Illustration of the DA problem\n\n"
      ]
    },
    {
      "cell_type": "code",
      "execution_count": null,
      "metadata": {
        "collapsed": false
      },
      "outputs": [],
      "source": [
        "# Train on source\n\nclf = SVC(kernel=\"rbf\", C=1)\nclf.fit(X_source, y_source)\n\n# Compute accuracy on source and target\nACC_source = clf.score(X_source, y_source)\nACC_target = clf.score(X_target, y_target)\n\nplt.figure(2, figsize=(8, 3.5))\nplt.subplot(121)\nDecisionBoundaryDisplay.from_estimator(\n    clf,\n    X_source,\n    alpha=0.3,\n    eps=0.5,\n    response_method=\"predict\",\n    vmax=9,\n    cmap=\"tab10\",\n    ax=plt.gca(),\n)\nplt.scatter(X_source[:, 0], X_source[:, 1], c=y_source, vmax=9, cmap=\"tab10\", alpha=0.7)\nplt.title(f\"SVC Prediction on source (ACC={ACC_source:.2f})\")\nlims = plt.axis()\n\nplt.subplot(122)\nDecisionBoundaryDisplay.from_estimator(\n    clf,\n    X_source,\n    alpha=0.3,\n    eps=0.5,\n    response_method=\"predict\",\n    vmax=9,\n    cmap=\"tab10\",\n    ax=plt.gca(),\n)\nplt.scatter(X_target[:, 0], X_target[:, 1], c=y_target, vmax=9, cmap=\"tab10\", alpha=0.7)\nplt.title(f\"SVC Prediction on target (ACC={ACC_target:.2f})\")\nlims = plt.axis()"
      ]
    },
    {
      "cell_type": "markdown",
      "metadata": {},
      "source": [
        "## Optimal Transport Domain Adaptation\n\n"
      ]
    },
    {
      "cell_type": "code",
      "execution_count": null,
      "metadata": {
        "collapsed": false
      },
      "outputs": [],
      "source": [
        "clf_otda = OTMapping(SVC(kernel=\"rbf\", C=1))\nclf_otda.fit(X, y, sample_domain=sample_domain)\n\n# Compute accuracy on source and target\nACC_source = clf_otda.score(X_source, y_source)\nACC_target = clf_otda.score(X_target, y_target)\n\nplt.figure(3, figsize=(8, 3.5))\nplt.subplot(121)\nDecisionBoundaryDisplay.from_estimator(\n    clf_otda,\n    X_source,\n    alpha=0.3,\n    eps=0.5,\n    response_method=\"predict\",\n    vmax=9,\n    cmap=\"tab10\",\n    ax=plt.gca(),\n)\nplt.scatter(X_source[:, 0], X_source[:, 1], c=y_source, vmax=9, cmap=\"tab10\", alpha=0.7)\nplt.title(f\"OTDA Prediction on source (ACC={ACC_source:.2f})\")\nlims = plt.axis()\n\nplt.subplot(122)\nDecisionBoundaryDisplay.from_estimator(\n    clf_otda,\n    X_source,\n    alpha=0.3,\n    eps=0.5,\n    response_method=\"predict\",\n    vmax=9,\n    cmap=\"tab10\",\n    ax=plt.gca(),\n)\nplt.scatter(X_target[:, 0], X_target[:, 1], c=y_target, vmax=9, cmap=\"tab10\", alpha=0.7)\nplt.title(f\"OTDA Prediction on target (ACC={ACC_target:.2f})\")\nlims = plt.axis()"
      ]
    },
    {
      "cell_type": "markdown",
      "metadata": {},
      "source": [
        "## How does OTDA works?\n\nThe OTDA method is based on the following idea: the optimal transport between\nthe source and target feature distribution is computed (which gives us what is\ncalled an optimal plan). Then, the source samples are mapped to the target\ndistribution using this optimal plan and the classifier is trained on the\nmapped  # samples.\n\nWe illustrate below the different steps of the OTDA method.\n\n"
      ]
    },
    {
      "cell_type": "code",
      "execution_count": null,
      "metadata": {
        "collapsed": false
      },
      "outputs": [],
      "source": [
        "# recovering the OT plan\nadapter = clf_otda.named_steps[\"otmappingadapter\"].get_estimator()\nT = adapter.ot_transport_.coupling_\nT = T / T.max()\n\n# computing the transported samples\nX_adapted = clf_otda[:-1].transform(X, sample_domain=sample_domain, allow_source=True)\n# this could also be done with 'select_domain' helper\nX_source_adapted = X_adapted[sample_domain > 0]\n\nplt.figure(4, figsize=(12, 3.5))\nplt.subplot(131)\nfor i in range(n_tot_source):\n    for j in range(n_tot_target):\n        if T[i, j] > 0:\n            plt.plot(\n                [X_source[i, 0], X_target[j, 0]],\n                [X_source[i, 1], X_target[j, 1]],\n                \"-g\",\n                alpha=T[i, j],\n            )\nplt.scatter(X_source[:, 0], X_source[:, 1], c=y_source, vmax=9, cmap=\"tab10\", alpha=0.7)\nplt.scatter(X_target[:, 0], X_target[:, 1], c=\"C7\", alpha=0.7)\nplt.title(label=\"Step 1: compute OT plan\")\nlims = plt.axis()\n\nplt.subplot(132)\nplt.scatter(X_target[:, 0], X_target[:, 1], c=\"C7\", alpha=0.7)\nplt.scatter(\n    X_source_adapted[:, 0],\n    X_source_adapted[:, 1],\n    c=y_source,\n    vmax=9,\n    cmap=\"tab10\",\n    alpha=0.7,\n)\nplt.axis(lims)\nplt.title(label=\"Step 2: adapt source distribution\")\n\nplt.subplot(133)\nDecisionBoundaryDisplay.from_estimator(\n    clf_otda,\n    X_source,\n    alpha=0.3,\n    eps=0.5,\n    response_method=\"predict\",\n    vmax=9,\n    cmap=\"tab10\",\n    ax=plt.gca(),\n)\nplt.scatter(X_target[:, 0], X_target[:, 1], c=\"C7\", alpha=0.7)\nplt.scatter(\n    X_source_adapted[:, 0],\n    X_source_adapted[:, 1],\n    c=y_source,\n    vmax=9,\n    cmap=\"tab10\",\n    alpha=0.7,\n)\nplt.axis(lims)\nplt.title(label=\"Step 3: train on adapted source\")"
      ]
    },
    {
      "cell_type": "markdown",
      "metadata": {},
      "source": [
        "## Different OTDA methods\n\nThe OTDA method can be used with different optimal transport solvers. Here we\nillustrate the different methods available in SKADA.\n\n"
      ]
    },
    {
      "cell_type": "code",
      "execution_count": null,
      "metadata": {
        "collapsed": false
      },
      "outputs": [],
      "source": [
        "# Sinkhorn OT solver\nclf_otda_sinkhorn = make_da_pipeline(\n    EntropicOTMappingAdapter(reg_e=1), SVC(kernel=\"rbf\", C=1)\n)\nclf_otda_sinkhorn.fit(X, y, sample_domain=sample_domain)\nACC_sinkhorn = clf_otda_sinkhorn.score(\n    X,\n    y,\n    sample_domain=sample_domain,\n    allow_source=True,\n)\nX_adapted_sinkhorn = clf_otda_sinkhorn[:-1].transform(\n    X,\n    sample_domain=sample_domain,\n    allow_source=True,\n)\nX_source_adapted_sinkhorn = X_adapted_sinkhorn[sample_domain > 0]\n\n# Sinkhorn OT solver with class regularization\nclf_otds_classreg = make_da_pipeline(\n    ClassRegularizerOTMappingAdapter(reg_e=1.0, reg_cl=1.0), SVC(kernel=\"rbf\", C=1)\n)\nclf_otds_classreg.fit(X, y, sample_domain=sample_domain)\nACC_classreg = clf_otds_classreg.score(\n    X,\n    y,\n    sample_domain=sample_domain,\n    allow_source=True,\n)\nX_adapted_classreg = clf_otds_classreg[:-1].transform(\n    X,\n    sample_domain=sample_domain,\n    allow_source=True,\n)\nX_source_adapted_classreg = X_adapted_classreg[sample_domain > 0]\n\n# Linear OT solver\nclf_otda_linear = make_da_pipeline(LinearOTMappingAdapter(), SVC(kernel=\"rbf\", C=1))\nclf_otda_linear.fit(X, y, sample_domain=sample_domain)\nACC_linear = clf_otda_linear.score(\n    X,\n    y,\n    sample_domain=sample_domain,\n    allow_source=True,\n)\nX_adapted_linear = clf_otda_linear[:-1].transform(\n    X,\n    sample_domain=sample_domain,\n    allow_source=True,\n)\nX_source_adapted_linear = X_adapted_linear[sample_domain > 0]\n\nplt.figure(5, figsize=(14, 7))\n\nplt.subplot(241)\nplt.scatter(X_target[:, 0], X_target[:, 1], c=\"C7\", alpha=0.7)\nplt.scatter(\n    X_source_adapted[:, 0],\n    X_source_adapted[:, 1],\n    c=y_source,\n    vmax=9,\n    cmap=\"tab10\",\n    alpha=0.7,\n)\nplt.axis(lims)\nplt.title(label=\"OTDA adapted\")\n\nplt.subplot(242)\nplt.scatter(X_target[:, 0], X_target[:, 1], c=\"C7\", alpha=0.7)\nplt.scatter(\n    X_source_adapted_sinkhorn[:, 0],\n    X_source_adapted_sinkhorn[:, 1],\n    c=y_source,\n    vmax=9,\n    cmap=\"tab10\",\n    alpha=0.7,\n)\nplt.axis(lims)\nplt.title(label=\"OTDA Sinkhorn adapted\")\n\nplt.subplot(243)\nplt.scatter(X_target[:, 0], X_target[:, 1], c=\"C7\", alpha=0.7)\nplt.scatter(\n    X_source_adapted_classreg[:, 0],\n    X_source_adapted_classreg[:, 1],\n    c=y_source,\n    vmax=9,\n    cmap=\"tab10\",\n    alpha=0.7,\n)\nplt.axis(lims)\nplt.title(label=\"OTDA class reg adapted\")\n\nplt.subplot(244)\nplt.scatter(X_target[:, 0], X_target[:, 1], c=\"C7\", alpha=0.7)\nplt.scatter(\n    X_source_adapted_linear[:, 0],\n    X_source_adapted_linear[:, 1],\n    c=y_source,\n    vmax=9,\n    cmap=\"tab10\",\n    alpha=0.7,\n)\nplt.axis(lims)\nplt.title(label=\"OTDA linear adapted\")\n\nplt.subplot(245)\nDecisionBoundaryDisplay.from_estimator(\n    clf_otda,\n    X_source,\n    alpha=0.3,\n    eps=0.5,\n    response_method=\"predict\",\n    vmax=9,\n    cmap=\"tab10\",\n    ax=plt.gca(),\n)\nplt.scatter(X_target[:, 0], X_target[:, 1], c=y_target, vmax=9, cmap=\"tab10\", alpha=0.7)\nplt.axis(lims)\nplt.title(label=f\"OTDA (ACC={ACC_target:.2f})\")\n\nplt.subplot(246)\nDecisionBoundaryDisplay.from_estimator(\n    clf_otda_sinkhorn,\n    X_source,\n    alpha=0.3,\n    eps=0.5,\n    response_method=\"predict\",\n    vmax=9,\n    cmap=\"tab10\",\n    ax=plt.gca(),\n)\nplt.scatter(X_target[:, 0], X_target[:, 1], c=y_target, vmax=9, cmap=\"tab10\", alpha=0.7)\nplt.axis(lims)\nplt.title(label=f\"OTDA Sinkhorn (ACC={ACC_sinkhorn:.2f})\")\n\nplt.subplot(247)\nDecisionBoundaryDisplay.from_estimator(\n    clf_otds_classreg,\n    X_source,\n    alpha=0.3,\n    eps=0.5,\n    response_method=\"predict\",\n    vmax=9,\n    cmap=\"tab10\",\n    ax=plt.gca(),\n)\nplt.scatter(X_target[:, 0], X_target[:, 1], c=y_target, vmax=9, cmap=\"tab10\", alpha=0.7)\nplt.axis(lims)\nplt.title(label=f\"OTDA class reg (ACC={ACC_classreg:.2f})\")\n\nplt.subplot(248)\nDecisionBoundaryDisplay.from_estimator(\n    clf_otda_linear,\n    X_source,\n    alpha=0.3,\n    eps=0.5,\n    response_method=\"predict\",\n    vmax=9,\n    cmap=\"tab10\",\n    ax=plt.gca(),\n)\nplt.scatter(X_target[:, 0], X_target[:, 1], c=y_target, vmax=9, cmap=\"tab10\", alpha=0.7)\nplt.axis(lims)\nplt.title(label=f\"OTDA linear (ACC={ACC_linear:.2f})\")"
      ]
    }
  ],
  "metadata": {
    "kernelspec": {
      "display_name": "Python 3",
      "language": "python",
      "name": "python3"
    },
    "language_info": {
      "codemirror_mode": {
        "name": "ipython",
        "version": 3
      },
      "file_extension": ".py",
      "mimetype": "text/x-python",
      "name": "python",
      "nbconvert_exporter": "python",
      "pygments_lexer": "ipython3",
      "version": "3.10.16"
    }
  },
  "nbformat": 4,
  "nbformat_minor": 0
}