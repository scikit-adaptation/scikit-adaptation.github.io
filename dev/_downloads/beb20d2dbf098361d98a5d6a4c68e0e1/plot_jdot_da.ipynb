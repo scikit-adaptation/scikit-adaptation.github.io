{
  "cells": [
    {
      "cell_type": "markdown",
      "metadata": {},
      "source": [
        "\n# Plot JDOT Regressor\n"
      ]
    },
    {
      "cell_type": "code",
      "execution_count": null,
      "metadata": {
        "collapsed": false
      },
      "outputs": [],
      "source": [
        "import numpy as np\nimport matplotlib.pyplot as plt\n\nfrom sklearn.metrics import mean_squared_error\nfrom sklearn.kernel_ridge import KernelRidge\n\nfrom skada import JDOTRegressor\nfrom skada.datasets import make_shifted_datasets\nfrom skada import source_target_split"
      ]
    },
    {
      "cell_type": "markdown",
      "metadata": {},
      "source": [
        "## Generate concept drift dataset\n\n"
      ]
    },
    {
      "cell_type": "code",
      "execution_count": null,
      "metadata": {
        "collapsed": false
      },
      "outputs": [],
      "source": [
        "X, y, sample_domain = make_shifted_datasets(\n        n_samples_source=20,\n        n_samples_target=20,\n        shift=\"concept_drift\",\n        noise=0.3,\n        label=\"regression\",\n        random_state=42,\n    )\n\ny = (y-y.mean())/y.std()\n\nXs, Xt, ys, yt = source_target_split(X, y, sample_domain=sample_domain)"
      ]
    },
    {
      "cell_type": "markdown",
      "metadata": {},
      "source": [
        "## Plot data\n\n"
      ]
    },
    {
      "cell_type": "code",
      "execution_count": null,
      "metadata": {
        "collapsed": false
      },
      "outputs": [],
      "source": [
        "plt.figure(1, (10, 5))\nplt.subplot(1, 2, 1)\nplt.scatter(Xs[:, 0], Xs[:, 1], c=ys, label=\"Source\")\nplt.title(\"Source data\")\nax = plt.axis()\n\nplt.subplot(1, 2, 2)\nplt.scatter(Xt[:, 0], Xt[:, 1], c=yt, label=\"Target\")\nplt.title(\"Target data\")\nplt.axis(ax)"
      ]
    },
    {
      "cell_type": "markdown",
      "metadata": {},
      "source": [
        "## Train on source data\n\n"
      ]
    },
    {
      "cell_type": "code",
      "execution_count": null,
      "metadata": {
        "collapsed": false
      },
      "outputs": [],
      "source": [
        "clf = KernelRidge(kernel='rbf', alpha=0.5)\nclf.fit(Xs, ys)\n\n# Compute accuracy on source and target\nys_pred = clf.predict(Xs)\nyt_pred = clf.predict(Xt)\n\nmse_s = mean_squared_error(ys, ys_pred)\nmse_t = mean_squared_error(yt, yt_pred)\n\nprint(f\"MSE on source: {mse_s:.2f}\")\nprint(f\"MSE on target: {mse_t:.2f}\")\n\nXX, YY = np.meshgrid(np.linspace(ax[0], ax[1], 100), np.linspace(ax[2], ax[3], 100))\nZ = clf.predict(np.c_[XX.ravel(), YY.ravel()]).reshape(XX.shape)\n\n\nplt.figure(2, (10, 5))\nplt.subplot(1, 2, 1)\nplt.scatter(Xs[:, 0], Xs[:, 1], c=ys, label=\"Prediction\")\nplt.imshow(Z, extent=(ax[0], ax[1], ax[2], ax[3]), origin='lower', alpha=0.5)\nplt.title(f\"KRR Prediction on source (MSE={mse_s:.2f})\")\nplt.axis(ax)\n\nplt.subplot(1, 2, 2)\nplt.scatter(Xt[:, 0], Xt[:, 1], c=yt, label=\"Prediction\")\nplt.imshow(Z, extent=(ax[0], ax[1], ax[2], ax[3]), origin='lower', alpha=0.5)\nplt.title(f\"KRR Prediction on target (MSE={mse_t:.2f})\")\nplt.axis(ax)"
      ]
    },
    {
      "cell_type": "markdown",
      "metadata": {},
      "source": [
        "## Train with JDOT regressor\n\n"
      ]
    },
    {
      "cell_type": "code",
      "execution_count": null,
      "metadata": {
        "collapsed": false
      },
      "outputs": [],
      "source": [
        "jdot = JDOTRegressor(base_estimator=KernelRidge(kernel='rbf', alpha=0.5), alpha=0.01)\n\njdot.fit(X, y, sample_domain=sample_domain)\n\nys_pred = jdot.predict(Xs)\nyt_pred = jdot.predict(Xt)\n\nmse_s = mean_squared_error(ys, ys_pred)\nmse_t = mean_squared_error(yt, yt_pred)\n\nZjdot = jdot.predict(np.c_[XX.ravel(), YY.ravel()]).reshape(XX.shape)\n\nprint(f\"JDOT MSE on source: {mse_s:.2f}\")\nprint(f\"JDOT MSE on target: {mse_t:.2f}\")\n\nplt.figure(3, (10, 5))\nplt.subplot(1, 2, 1)\nplt.scatter(Xs[:, 0], Xs[:, 1], c=ys, label=\"Prediction\")\nplt.imshow(Zjdot, extent=(ax[0], ax[1], ax[2], ax[3]), origin='lower', alpha=0.5)\nplt.title(f\"JDOT Prediction on source (MSE={mse_s:.2f})\")\nplt.axis(ax)\n\nplt.subplot(1, 2, 2)\nplt.scatter(Xt[:, 0], Xt[:, 1], c=yt, label=\"Prediction\")\nplt.imshow(Zjdot, extent=(ax[0], ax[1], ax[2], ax[3]), origin='lower', alpha=0.5)\nplt.title(f\"JDOT Prediction on target (MSE={mse_t:.2f})\")\nplt.axis(ax)"
      ]
    }
  ],
  "metadata": {
    "kernelspec": {
      "display_name": "Python 3",
      "language": "python",
      "name": "python3"
    },
    "language_info": {
      "codemirror_mode": {
        "name": "ipython",
        "version": 3
      },
      "file_extension": ".py",
      "mimetype": "text/x-python",
      "name": "python",
      "nbconvert_exporter": "python",
      "pygments_lexer": "ipython3",
      "version": "3.10.13"
    }
  },
  "nbformat": 4,
  "nbformat_minor": 0
}