{
  "cells": [
    {
      "cell_type": "markdown",
      "metadata": {},
      "source": [
        "\n# Multi-domain Linear Monge Alignment\n\nThis example illustrates the use of the MultiLinearMongeAlignmentAdapter\n"
      ]
    },
    {
      "cell_type": "code",
      "execution_count": null,
      "metadata": {
        "collapsed": false
      },
      "outputs": [],
      "source": [
        "# Author: Remi Flamary\n#\n# License: BSD 3-Clause\n# sphinx_gallery_thumbnail_number = 4"
      ]
    },
    {
      "cell_type": "code",
      "execution_count": null,
      "metadata": {
        "collapsed": false
      },
      "outputs": [],
      "source": [
        "import matplotlib.pyplot as plt\nimport numpy as np\nfrom sklearn.linear_model import LogisticRegression\n\nfrom skada import (\n    MultiLinearMongeAlignmentAdapter,\n    make_da_pipeline,\n    source_target_split,\n)\nfrom skada.datasets import make_shifted_datasets"
      ]
    },
    {
      "cell_type": "markdown",
      "metadata": {},
      "source": [
        "## Generate concept drift classification dataset and plot it\n\nWe generate a simple 2D concept drift dataset.\n\n"
      ]
    },
    {
      "cell_type": "code",
      "execution_count": null,
      "metadata": {
        "collapsed": false
      },
      "outputs": [],
      "source": [
        "X, y, sample_domain = make_shifted_datasets(\n    n_samples_source=20,\n    n_samples_target=20,\n    shift=\"concept_drift\",\n    noise=0.2,\n    label=\"multiclass\",\n    random_state=42,\n)\n\n\nXs, Xt, ys, yt = source_target_split(X, y, sample_domain=sample_domain)\n\n\nplt.figure(5, (10, 5))\nplt.subplot(1, 2, 1)\nplt.scatter(Xs[:, 0], Xs[:, 1], c=ys, cmap=\"tab10\", vmax=9, label=\"Source\")\nplt.title(\"Source data\")\nax = plt.axis()\n\nplt.subplot(1, 2, 2)\nplt.scatter(Xt[:, 0], Xt[:, 1], c=yt, cmap=\"tab10\", vmax=9, label=\"Target\")\nplt.title(\"Target data\")\nplt.axis(ax)"
      ]
    },
    {
      "cell_type": "markdown",
      "metadata": {},
      "source": [
        "## Train a classifier on source data\n\nWe train a simple SVC classifier on the source domain and evaluate its\nperformance on the source and target domain. Performance is much lower on\nthe target domain due to the shift. We also plot the decision boundary\n\n"
      ]
    },
    {
      "cell_type": "code",
      "execution_count": null,
      "metadata": {
        "collapsed": false
      },
      "outputs": [],
      "source": [
        "clf = MultiLinearMongeAlignmentAdapter()\nclf.fit(X, sample_domain=sample_domain)\n\nX_adapt = clf.transform(X, sample_domain=sample_domain, allow_source=True)\n\n\nplt.figure(5, (10, 3))\nplt.subplot(1, 3, 1)\nplt.scatter(Xs[:, 0], Xs[:, 1], c=ys, cmap=\"tab10\", vmax=9, label=\"Source\")\nplt.title(\"Source data\")\nax = plt.axis()\n\nplt.subplot(1, 3, 2)\nplt.scatter(Xt[:, 0], Xt[:, 1], c=yt, cmap=\"tab10\", vmax=9, label=\"Target\")\nplt.title(\"Target data\")\nplt.axis(ax)\n\nplt.subplot(1, 3, 3)\nplt.scatter(\n    X_adapt[sample_domain >= 0, 0],\n    X_adapt[sample_domain >= 0, 1],\n    c=y[sample_domain >= 0],\n    marker=\"o\",\n    cmap=\"tab10\",\n    vmax=9,\n    label=\"Source\",\n    alpha=0.5,\n)\nplt.scatter(\n    X_adapt[sample_domain < 0, 0],\n    X_adapt[sample_domain < 0, 1],\n    c=y[sample_domain < 0],\n    marker=\"x\",\n    cmap=\"tab10\",\n    vmax=9,\n    label=\"Target\",\n    alpha=1,\n)\nplt.legend()\nplt.title(\"Adapted data\")"
      ]
    },
    {
      "cell_type": "markdown",
      "metadata": {},
      "source": [
        "## Train a classifier on adapted data\n\n"
      ]
    },
    {
      "cell_type": "code",
      "execution_count": null,
      "metadata": {
        "collapsed": false
      },
      "outputs": [],
      "source": [
        "clf = make_da_pipeline(\n    MultiLinearMongeAlignmentAdapter(),\n    LogisticRegression(),\n)\n\nclf.fit(X, y, sample_domain=sample_domain)\n\nprint(\n    \"Average accuracy on all domains:\",\n    clf.score(X, y, sample_domain=sample_domain, allow_source=True),\n)"
      ]
    },
    {
      "cell_type": "code",
      "execution_count": null,
      "metadata": {
        "collapsed": false
      },
      "outputs": [],
      "source": [
        "def get_multidomain_data(\n    n_samples_source=100,\n    n_samples_target=100,\n    noise=0.1,\n    random_state=None,\n    n_sources=3,\n    n_targets=2,\n):\n    np.random.seed(random_state)\n    X, y, sample_domain = make_shifted_datasets(\n        n_samples_source=n_samples_source,\n        n_samples_target=n_samples_target,\n        noise=noise,\n        shift=\"concept_drift\",\n        label=\"multiclass\",\n        random_state=random_state,\n    )\n    for ns in range(n_sources - 1):\n        Xi, yi, sample_domaini = make_shifted_datasets(\n            n_samples_source=n_samples_source,\n            n_samples_target=n_samples_target,\n            noise=noise,\n            shift=\"concept_drift\",\n            label=\"multiclass\",\n            random_state=random_state + ns,\n            mean=np.random.randn(2),\n            sigma=np.random.rand(2) * 0.5 + 0.5,\n        )\n        Xs, Xt, ys, yt = source_target_split(Xi, yi, sample_domain=sample_domaini)\n        X = np.vstack([X, Xt])\n        y = np.hstack([y, yt])\n        sample_domain = np.hstack([sample_domain, np.ones(Xt.shape[0]) * (ns + 2)])\n\n    for nt in range(n_targets - 1):\n        Xi, yi, sample_domaini = make_shifted_datasets(\n            n_samples_source=n_samples_source,\n            n_samples_target=n_samples_target,\n            noise=noise,\n            shift=\"concept_drift\",\n            label=\"multiclass\",\n            random_state=random_state + nt + 42,\n            mean=np.random.randn(2),\n            sigma=np.random.rand(2) * 0.5 + 0.5,\n        )\n        Xs, Xt, ys, yt = source_target_split(Xi, yi, sample_domain=sample_domaini)\n        X = np.vstack([X, Xt])\n        y = np.hstack([y, yt])\n        sample_domain = np.hstack([sample_domain, -np.ones(Xt.shape[0]) * (nt + 1)])\n\n    return X, y, sample_domain\n\n\nX, y, sample_domain = get_multidomain_data(\n    n_samples_source=50,\n    n_samples_target=50,\n    noise=0.1,\n    random_state=43,\n    n_sources=3,\n    n_targets=2,\n)\n\nXs, Xt, ys, yt = source_target_split(X, y, sample_domain=sample_domain)\n\n\nplt.figure(5, (10, 5))\nplt.subplot(1, 2, 1)\nplt.scatter(Xs[:, 0], Xs[:, 1], c=ys, cmap=\"tab10\", vmax=9, label=\"Source\")\nplt.title(\"Source data\")\nax = plt.axis()\n\nplt.subplot(1, 2, 2)\nplt.scatter(Xt[:, 0], Xt[:, 1], c=yt, cmap=\"tab10\", vmax=9, label=\"Target\")\nplt.title(\"Target domains\")\nplt.axis(ax)"
      ]
    },
    {
      "cell_type": "code",
      "execution_count": null,
      "metadata": {
        "collapsed": false
      },
      "outputs": [],
      "source": [
        "clf = MultiLinearMongeAlignmentAdapter()\nclf.fit(X, sample_domain=sample_domain)\n\nX_adapt = clf.transform(X, sample_domain=sample_domain, allow_source=True)\n\n\nplt.figure(5, (10, 3))\nplt.subplot(1, 3, 1)\nplt.scatter(Xs[:, 0], Xs[:, 1], c=ys, cmap=\"tab10\", vmax=9, label=\"Source\")\nplt.title(\"Source data\")\nax = plt.axis()\n\nplt.subplot(1, 3, 2)\nplt.scatter(Xt[:, 0], Xt[:, 1], c=yt, cmap=\"tab10\", vmax=9, label=\"Target\")\nplt.title(\"Target data\")\nplt.axis(ax)\n\nplt.subplot(1, 3, 3)\nplt.scatter(\n    X_adapt[sample_domain >= 0, 0],\n    X_adapt[sample_domain >= 0, 1],\n    c=y[sample_domain >= 0],\n    marker=\"o\",\n    cmap=\"tab10\",\n    vmax=9,\n    label=\"Source\",\n    alpha=0.5,\n)\nplt.scatter(\n    X_adapt[sample_domain < 0, 0],\n    X_adapt[sample_domain < 0, 1],\n    c=y[sample_domain < 0],\n    marker=\"x\",\n    cmap=\"tab10\",\n    vmax=9,\n    label=\"Target\",\n    alpha=1,\n)\nplt.legend()\nplt.axis(ax)\nplt.title(\"Adapted data\")"
      ]
    },
    {
      "cell_type": "markdown",
      "metadata": {},
      "source": [
        "## Train a classifier on adapted data\n\n"
      ]
    },
    {
      "cell_type": "code",
      "execution_count": null,
      "metadata": {
        "collapsed": false
      },
      "outputs": [],
      "source": [
        "clf = make_da_pipeline(\n    MultiLinearMongeAlignmentAdapter(),\n    LogisticRegression(),\n)\n\nclf.fit(X, y, sample_domain=sample_domain)\n\nprint(\n    \"Average accuracy on all domains:\",\n    clf.score(X, y, sample_domain=sample_domain, allow_source=True),\n)"
      ]
    }
  ],
  "metadata": {
    "kernelspec": {
      "display_name": "Python 3",
      "language": "python",
      "name": "python3"
    },
    "language_info": {
      "codemirror_mode": {
        "name": "ipython",
        "version": 3
      },
      "file_extension": ".py",
      "mimetype": "text/x-python",
      "name": "python",
      "nbconvert_exporter": "python",
      "pygments_lexer": "ipython3",
      "version": "3.10.15"
    }
  },
  "nbformat": 4,
  "nbformat_minor": 0
}